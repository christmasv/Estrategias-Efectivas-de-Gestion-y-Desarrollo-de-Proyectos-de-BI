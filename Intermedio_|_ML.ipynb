{
  "nbformat": 4,
  "nbformat_minor": 0,
  "metadata": {
    "colab": {
      "provenance": [],
      "authorship_tag": "ABX9TyPFF4iMUfrEh3InldUb0lvf",
      "include_colab_link": true
    },
    "kernelspec": {
      "name": "python3",
      "display_name": "Python 3"
    },
    "language_info": {
      "name": "python"
    }
  },
  "cells": [
    {
      "cell_type": "markdown",
      "metadata": {
        "id": "view-in-github",
        "colab_type": "text"
      },
      "source": [
        "<a href=\"https://colab.research.google.com/github/christmasv/Estrategias-Efectivas-de-Gestion-y-Desarrollo-de-Proyectos-de-BI/blob/main/Intermedio_%7C_ML.ipynb\" target=\"_parent\"><img src=\"https://colab.research.google.com/assets/colab-badge.svg\" alt=\"Open In Colab\"/></a>"
      ]
    },
    {
      "cell_type": "markdown",
      "source": [
        "# Intermiedio | Machine Learning\n",
        "\n",
        "\n",
        " **Author** = [Christopher Soto](https://twitter.com/csv_81)\n",
        "\n",
        "    @article{khrizoto,     \n",
        "    Title        = {Intermedio | ML},\n",
        "    Howpublished = {\\url{https://khrizoto.wordpress.com/}},\n",
        "    Year         = {2023}\n",
        "    }\n",
        "\n",
        "**Descripción:**"
      ],
      "metadata": {
        "id": "3QoohL8Mp3t3"
      }
    },
    {
      "cell_type": "markdown",
      "source": [
        "**Introducción**\n",
        "\n",
        "Acelerará su experiencia en aprendizaje automático aprendiendo a:\n",
        "\n",
        "- Abordar los tipos de datos que a menudo se encuentran en conjuntos de datos del mundo real (valores faltantes, variables categóricas).\n",
        "\n",
        "- Diseñar canales para mejorar la calidad de su código de aprendizaje automático,\n",
        "utilizar técnicas avanzadas para la validación de modelos (validación cruzada).\n",
        "\n",
        "- Construir modelos de última generación (XGBoost).\n",
        "\n",
        "- Evite errores comunes e importantes en la ciencia de datos (fugas)."
      ],
      "metadata": {
        "id": "dhBWdXbpm7W-"
      }
    },
    {
      "cell_type": "markdown",
      "source": [],
      "metadata": {
        "id": "hmlKonhFp2ML"
      }
    }
  ]
}