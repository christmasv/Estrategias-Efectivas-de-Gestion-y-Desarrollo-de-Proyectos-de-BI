{
  "nbformat": 4,
  "nbformat_minor": 0,
  "metadata": {
    "colab": {
      "provenance": [],
      "authorship_tag": "ABX9TyPvkpy0L00BMRLgMpoDV1Wc",
      "include_colab_link": true
    },
    "kernelspec": {
      "name": "python3",
      "display_name": "Python 3"
    },
    "language_info": {
      "name": "python"
    }
  },
  "cells": [
    {
      "cell_type": "markdown",
      "metadata": {
        "id": "view-in-github",
        "colab_type": "text"
      },
      "source": [
        "<a href=\"https://colab.research.google.com/github/christmasv/Estrategias-Efectivas-de-Gestion-y-Desarrollo-de-Proyectos-de-BI/blob/main/Stats_Fundamental_%7C_DS_01.ipynb\" target=\"_parent\"><img src=\"https://colab.research.google.com/assets/colab-badge.svg\" alt=\"Open In Colab\"/></a>"
      ]
    },
    {
      "cell_type": "code",
      "execution_count": null,
      "metadata": {
        "id": "vpa8Gdm97Mzk"
      },
      "outputs": [],
      "source": [
        "# Estadistica Basica | DS - 01\n",
        "\n",
        "\n",
        " **Author** = [Christopher Soto](https://twitter.com/csv_81)\n",
        "\n",
        "    @article{khrizoto,\n",
        "    Title        = {Stats Fundamental | DS - 01},\n",
        "    Howpublished = {\\url{https://khrizoto.wordpress.com/}},\n",
        "    Year         = {2023}\n",
        "    }\n",
        "\n",
        "**Descripción:**"
      ]
    },
    {
      "cell_type": "markdown",
      "source": [
        "# Análisis exploratorio de datos\n",
        "\n",
        "Análisis exploratorio de datos\n",
        "\n",
        "# **Términos clave de la estimación de la localización**\n",
        "\n",
        "***Media***\n",
        "\n",
        "Suma de todos los valores dividida por el número de valores.\n",
        "\n",
        "*Sinónimos*\n",
        "\n",
        "promedio\n",
        "\n",
        "***Media ponderada***\n",
        "\n",
        "Suma de todos los valores multiplicados por cada ponderación y dividida por la suma de las\n",
        "ponderaciones.*Sinónimo*\n",
        "\n",
        "promedio ponderado\n",
        "\n",
        "***Mediana***\n",
        "\n",
        "Valor tal que la mitad del número de datos se encuentra por encima y la otra mitad por\n",
        "debajo de dicho valor.*Sinónimo*\n",
        "\n",
        "Percentil 50\n",
        "\n",
        "***Percentil***\n",
        "\n",
        "Valor tal que el *P* por ciento de los datos se encuentra por debajo del mismo.\n",
        "*Sinónimo*\n",
        "\n",
        "cuantil\n",
        "\n",
        "***Mediana ponderada***\n",
        "\n",
        "Valor tal que la mitad de la suma de las ponderaciones se encuentra por encima y la otra\n",
        "mitad por debajo de los datos ordenados.\n",
        "\n",
        "***Media recortada***\n",
        "\n",
        "El promedio de todos los valores después de eliminar un número fijo de valores extremos.\n",
        "\n",
        "*Sinónimo*\n",
        "\n",
        "media truncada\n",
        "\n",
        "***Robusto***\n",
        "\n",
        "Insensible a valores extremos.\n",
        "\n",
        "*Sinónimo*\n",
        "\n",
        "resistente\n",
        "\n",
        "***Atípico***\n",
        "\n",
        "Valor de un dato que es muy diferente de la mayoría de los valores de datos.\n",
        "\n",
        "*Sinónimo*\n",
        "\n",
        "valor extremo\n"
      ],
      "metadata": {
        "id": "MxJFJmcW8WRl"
      }
    },
    {
      "cell_type": "code",
      "source": [
        "#Instalamos librerias necesarias para trabajar\n",
        "!pip install wquantiles"
      ],
      "metadata": {
        "colab": {
          "base_uri": "https://localhost:8080/"
        },
        "id": "fgPkSZV39Ghd",
        "outputId": "c69348bc-d408-4491-95df-169e4dacd68c"
      },
      "execution_count": 4,
      "outputs": [
        {
          "output_type": "stream",
          "name": "stdout",
          "text": [
            "Collecting wquantiles\n",
            "  Downloading wquantiles-0.6-py3-none-any.whl (3.3 kB)\n",
            "Requirement already satisfied: numpy>=1.18 in /usr/local/lib/python3.10/dist-packages (from wquantiles) (1.23.5)\n",
            "Installing collected packages: wquantiles\n",
            "Successfully installed wquantiles-0.6\n"
          ]
        }
      ]
    },
    {
      "cell_type": "code",
      "source": [
        "#Importamos librerias necesarias. matplotlib inline\n",
        "\n",
        "from pathlib import Path\n",
        "\n",
        "import pandas as pd\n",
        "import numpy as np\n",
        "from scipy.stats import trim_mean\n",
        "from statsmodels import robust\n",
        "import wquantiles\n",
        "\n",
        "import seaborn as sns\n",
        "import matplotlib.pylab as plt"
      ],
      "metadata": {
        "id": "wux4cECr806A"
      },
      "execution_count": 5,
      "outputs": []
    },
    {
      "cell_type": "code",
      "source": [
        "try:\n",
        "    import common\n",
        "    DATA = common.dataDirectory()\n",
        "except ImportError:\n",
        "    DATA = Path().resolve() / 'data'"
      ],
      "metadata": {
        "id": "sxg79qCk9oCj"
      },
      "execution_count": 6,
      "outputs": []
    },
    {
      "cell_type": "code",
      "source": [
        "#Definir rutas a conjuntos de datos. Si no mantiene sus datos en el mismo directorio que el código, adapte los nombres de las rutas.\n",
        "\n",
        "AIRLINE_STATS_CSV = DATA / 'airline_stats.csv'\n",
        "KC_TAX_CSV = DATA / 'kc_tax.csv.gz'\n",
        "LC_LOANS_CSV = DATA / 'lc_loans.csv'\n",
        "AIRPORT_DELAYS_CSV = DATA / 'dfw_airline.csv'\n",
        "SP500_DATA_CSV = DATA / 'sp500_data.csv.gz'\n",
        "SP500_SECTORS_CSV = DATA / 'sp500_sectors.csv'\n",
        "STATE_CSV = DATA / 'state.csv'"
      ],
      "metadata": {
        "id": "HXz5tKr_9qv0"
      },
      "execution_count": 7,
      "outputs": []
    },
    {
      "cell_type": "markdown",
      "source": [
        "# Estimaciones de ubicación\n",
        "## Ejemplo: Estimaciones de ubicación de población y tasas de asesinatos"
      ],
      "metadata": {
        "id": "I4xR_PrL-2Ln"
      }
    },
    {
      "cell_type": "code",
      "source": [
        "# Tabla 1-2\n",
        "state = pd.read_csv(STATE_CSV)\n",
        "print(state.head(8))"
      ],
      "metadata": {
        "colab": {
          "base_uri": "https://localhost:8080/"
        },
        "id": "Hqndh7Jl-3ni",
        "outputId": "2fa17859-acc5-4c56-a200-e106413e6122"
      },
      "execution_count": 8,
      "outputs": [
        {
          "output_type": "stream",
          "name": "stdout",
          "text": [
            "         State  Population  Murder.Rate Abbreviation\n",
            "0      Alabama     4779736          5.7           AL\n",
            "1       Alaska      710231          5.6           AK\n",
            "2      Arizona     6392017          4.7           AZ\n",
            "3     Arkansas     2915918          5.6           AR\n",
            "4   California    37253956          4.4           CA\n",
            "5     Colorado     5029196          2.8           CO\n",
            "6  Connecticut     3574097          2.4           CT\n",
            "7     Delaware      897934          5.8           DE\n"
          ]
        }
      ]
    }
  ]
}