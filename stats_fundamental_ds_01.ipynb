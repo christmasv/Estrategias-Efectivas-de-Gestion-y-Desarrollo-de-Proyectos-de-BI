{
  "nbformat": 4,
  "nbformat_minor": 0,
  "metadata": {
    "colab": {
      "provenance": [],
      "authorship_tag": "ABX9TyOxSRs9ylCSBZ+ohiqdL1hH",
      "include_colab_link": true
    },
    "kernelspec": {
      "name": "python3",
      "display_name": "Python 3"
    },
    "language_info": {
      "name": "python"
    }
  },
  "cells": [
    {
      "cell_type": "markdown",
      "metadata": {
        "id": "view-in-github",
        "colab_type": "text"
      },
      "source": [
        "<a href=\"https://colab.research.google.com/github/christmasv/Estrategias-Efectivas-de-Gestion-y-Desarrollo-de-Proyectos-de-BI/blob/main/stats_fundamental_ds_01.ipynb\" target=\"_parent\"><img src=\"https://colab.research.google.com/assets/colab-badge.svg\" alt=\"Open In Colab\"/></a>"
      ]
    },
    {
      "cell_type": "code",
      "execution_count": null,
      "metadata": {
        "id": "vpa8Gdm97Mzk"
      },
      "outputs": [],
      "source": [
        "# Estadistica Basica | DS - 01\n",
        "\n",
        "\n",
        " **Author** = [Christopher Soto](https://twitter.com/csv_81)\n",
        "\n",
        "    @article{khrizoto,\n",
        "    Title        = {Stats Fundamental | DS - 01},\n",
        "    Howpublished = {\\url{https://khrizoto.wordpress.com/}},\n",
        "    Year         = {2023}\n",
        "    }\n",
        "\n",
        "**Descripción:**"
      ]
    },
    {
      "cell_type": "markdown",
      "source": [
        "# Análisis exploratorio de datos\n",
        "\n",
        "Análisis exploratorio de datos\n",
        "\n",
        "# **Términos clave de la estimación de la localización**\n",
        "\n",
        "***Media***\n",
        "\n",
        "Suma de todos los valores dividida por el número de valores.\n",
        "\n",
        "*Sinónimos*\n",
        "\n",
        "promedio\n",
        "\n",
        "***Media ponderada***\n",
        "\n",
        "Suma de todos los valores multiplicados por cada ponderación y dividida por la suma de las\n",
        "ponderaciones.*Sinónimo*\n",
        "\n",
        "promedio ponderado\n",
        "\n",
        "***Mediana***\n",
        "\n",
        "Valor tal que la mitad del número de datos se encuentra por encima y la otra mitad por\n",
        "debajo de dicho valor.*Sinónimo*\n",
        "\n",
        "Percentil 50\n",
        "\n",
        "***Percentil***\n",
        "\n",
        "Valor tal que el *P* por ciento de los datos se encuentra por debajo del mismo.\n",
        "*Sinónimo*\n",
        "\n",
        "cuantil\n",
        "\n",
        "***Mediana ponderada***\n",
        "\n",
        "Valor tal que la mitad de la suma de las ponderaciones se encuentra por encima y la otra\n",
        "mitad por debajo de los datos ordenados.\n",
        "\n",
        "***Media recortada***\n",
        "\n",
        "El promedio de todos los valores después de eliminar un número fijo de valores extremos.\n",
        "\n",
        "*Sinónimo*\n",
        "\n",
        "media truncada\n",
        "\n",
        "***Robusto***\n",
        "\n",
        "Insensible a valores extremos.\n",
        "\n",
        "*Sinónimo*\n",
        "\n",
        "resistente\n",
        "\n",
        "***Atípico***\n",
        "\n",
        "Valor de un dato que es muy diferente de la mayoría de los valores de datos.\n",
        "\n",
        "*Sinónimo*\n",
        "\n",
        "valor extremo\n"
      ],
      "metadata": {
        "id": "MxJFJmcW8WRl"
      }
    },
    {
      "cell_type": "code",
      "source": [
        "#Instalamos librerias necesarias para trabajar\n",
        "!pip install wquantiles"
      ],
      "metadata": {
        "colab": {
          "base_uri": "https://localhost:8080/"
        },
        "id": "fgPkSZV39Ghd",
        "outputId": "ee26c2a8-8003-49cc-8b79-a377add02cdb"
      },
      "execution_count": 1,
      "outputs": [
        {
          "output_type": "stream",
          "name": "stdout",
          "text": [
            "Collecting wquantiles\n",
            "  Downloading wquantiles-0.6-py3-none-any.whl (3.3 kB)\n",
            "Requirement already satisfied: numpy>=1.18 in /usr/local/lib/python3.10/dist-packages (from wquantiles) (1.23.5)\n",
            "Installing collected packages: wquantiles\n",
            "Successfully installed wquantiles-0.6\n"
          ]
        }
      ]
    },
    {
      "cell_type": "code",
      "source": [
        "#Importamos librerias necesarias. matplotlib inline\n",
        "\n",
        "from pathlib import Path\n",
        "\n",
        "import pandas as pd\n",
        "import numpy as np\n",
        "from scipy.stats import trim_mean\n",
        "from statsmodels import robust\n",
        "import wquantiles\n",
        "\n",
        "import seaborn as sns\n",
        "import matplotlib.pylab as plt"
      ],
      "metadata": {
        "id": "wux4cECr806A"
      },
      "execution_count": 2,
      "outputs": []
    },
    {
      "cell_type": "code",
      "source": [
        "try:\n",
        "    import common\n",
        "    DATA = common.dataDirectory()\n",
        "except ImportError:\n",
        "    DATA = Path().resolve() / 'data'"
      ],
      "metadata": {
        "id": "sxg79qCk9oCj"
      },
      "execution_count": 3,
      "outputs": []
    },
    {
      "cell_type": "code",
      "source": [
        "#Definir rutas a conjuntos de datos. Si no mantiene sus datos en el mismo directorio que el código, adapte los nombres de las rutas.\n",
        "\n",
        "AIRLINE_STATS_CSV = DATA / 'airline_stats.csv'\n",
        "KC_TAX_CSV = DATA / 'kc_tax.csv.gz'\n",
        "LC_LOANS_CSV = DATA / 'lc_loans.csv'\n",
        "AIRPORT_DELAYS_CSV = DATA / 'dfw_airline.csv'\n",
        "SP500_DATA_CSV = DATA / 'sp500_data.csv.gz'\n",
        "SP500_SECTORS_CSV = DATA / 'sp500_sectors.csv'\n",
        "STATE_CSV = DATA / 'state.csv'"
      ],
      "metadata": {
        "id": "HXz5tKr_9qv0"
      },
      "execution_count": 4,
      "outputs": []
    },
    {
      "cell_type": "markdown",
      "source": [
        "# Estimaciones de ubicación\n",
        "## Ejemplo: Estimaciones de ubicación de población y tasas de asesinatos"
      ],
      "metadata": {
        "id": "I4xR_PrL-2Ln"
      }
    },
    {
      "cell_type": "code",
      "source": [
        "# Tabla 1-2\n",
        "state = pd.read_csv(STATE_CSV)\n",
        "print(state.head(8))"
      ],
      "metadata": {
        "colab": {
          "base_uri": "https://localhost:8080/"
        },
        "id": "Hqndh7Jl-3ni",
        "outputId": "874af3f0-4415-4b1c-c21d-17c8f67d4be5"
      },
      "execution_count": 5,
      "outputs": [
        {
          "output_type": "stream",
          "name": "stdout",
          "text": [
            "         State  Population  Murder.Rate Abbreviation\n",
            "0      Alabama     4779736          5.7           AL\n",
            "1       Alaska      710231          5.6           AK\n",
            "2      Arizona     6392017          4.7           AZ\n",
            "3     Arkansas     2915918          5.6           AR\n",
            "4   California    37253956          4.4           CA\n",
            "5     Colorado     5029196          2.8           CO\n",
            "6  Connecticut     3574097          2.4           CT\n",
            "7     Delaware      897934          5.8           DE\n"
          ]
        }
      ]
    },
    {
      "cell_type": "markdown",
      "source": [
        "Calcule la media, la media recortada y la mediana para la población. Para `media` y `mediana` podemos usar los métodos _pandas_ del marco de datos. La media recortada requiere la función `trim_mean` en _scipy.stats_.\n"
      ],
      "metadata": {
        "id": "S-kIK3LhAOsn"
      }
    },
    {
      "cell_type": "markdown",
      "source": [
        "\n",
        "**Media**\n",
        "La estimación más elemental para la localización es el valor medio o promedio (average). La media es la suma de todos los valores dividida por el número de valores. Consideremos el siguiente conjunto de números: {3 5 1 2}. La media es (3 + 5 + 1 +2) / 4 = 11/4 = 2.75. Nos encontraremos el símbolo x (pronunciado \"barra x\") que se utiliza para representar la media de la muestra de una población. La fórmula para calcular la media de un conjunto de n valores x1, x2, ..., xn es: ![image.png](data:image/png;base64,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)"
      ],
      "metadata": {
        "id": "XRJMVfaPDRIm"
      }
    },
    {
      "cell_type": "code",
      "source": [
        "state = pd.read_csv(STATE_CSV)\n",
        "print(state['Population'].mean())"
      ],
      "metadata": {
        "colab": {
          "base_uri": "https://localhost:8080/"
        },
        "id": "ALL2nM4kAWi4",
        "outputId": "55c944f3-7983-49b9-e09e-eee971879450"
      },
      "execution_count": 6,
      "outputs": [
        {
          "output_type": "stream",
          "name": "stdout",
          "text": [
            "6162876.3\n"
          ]
        }
      ]
    },
    {
      "cell_type": "markdown",
      "source": [
        "\n",
        "N (o n) se refiere al número total de registros u observaciones. En estadística, se escribe con mayúscula si se refiere a una población y en minúscula si se refiere a una muestra de una población. En la ciencia de datos, esa distinción no es vital, por lo que se puede ver de las dos formas."
      ],
      "metadata": {
        "id": "GEbunmI_Cco5"
      }
    },
    {
      "cell_type": "markdown",
      "source": [
        "**Media Truncada (trimmed mean),** que se calcula ignorando un número fijo, en cada extremo, de valores ordenados y a continuación se calcula el promedio de los valores restantes. Al representar los valores ordenados por x(1), x(2), ..., x(n) donde x(1) es el valor más pequeño y x(n) el valor más grande, la fórmula para calcular la media recortada con los p valores más pequeños y más grandes omitidos es: ![image.png](data:image/png;base64,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)"
      ],
      "metadata": {
        "id": "cdxqYGhoDFU5"
      }
    },
    {
      "cell_type": "code",
      "source": [
        "print(trim_mean(state['Population'], 0.1))"
      ],
      "metadata": {
        "colab": {
          "base_uri": "https://localhost:8080/"
        },
        "id": "VzTGmBYABdhC",
        "outputId": "f982cbb3-078b-4004-aa74-d08b0d27f3bf"
      },
      "execution_count": 7,
      "outputs": [
        {
          "output_type": "stream",
          "name": "stdout",
          "text": [
            "4783697.125\n"
          ]
        }
      ]
    },
    {
      "cell_type": "markdown",
      "source": [
        "**Media Ponderada (weighted mean)**, que se calcula multiplicando cada valor de datos xi por el peso wi especificado por el usuario y dividiendo su suma por la suma de las ponderaciones. La fórmula para una media ponderada es: ![image.png](data:image/png;base64,iVBORw0KGgoAAAANSUhEUgAAAQMAAAA7EAYAAAAvHzP8AAAMP2lDQ1BJQ0MgUHJvZmlsZQAASImVVwdYU8kWnluSkJDQAghICb0JIjWAlBBaAOldVEISIJQYA0HFji4quHaxgA1dFVHsNAuK2FkUe18sqCjrYsGuvEkBXfeV7833zZ3//nPmP2fOnbn3DgDqx7licR6qAUC+qFASGxLASE5JZZCeAirQBgAQgSGXVyBmRUdHwDsw2P69vLsOEFl7xUGm9c/+/1o0+YICHgBINMQZ/AJePsQHAcCreGJJIQxAxptPLhTLMKxAWwIDhHiBDGcpcJUMZyjwXrlNfCwb4jYAVKhcriQLALVLkGcU8bKghlofxE4ivlAEgDoDYt/8/Il8iNMhtoE2Yohl+syMH3Sy/qaZMaTJ5WYNYcVc5EUlUFggzuNO/T/T8b9Lfp500IcVrNRsSWisbM4wbzdzJ4bLMBXiXlFGZBTEWhB/EPLl9hCjlGxpaILCHjXkFbBhzoAuxE58bmA4xIYQB4vyIiOUfEamMJgDMVwh6BRhISceYj2IFwgKguKUNpskE2OVvtD6TAmbpeTPciVyvzJf96W5CSyl/utsAUepj6kVZ8cnQUyB2KJImBgJsRrEjgW5ceFKm9HF2ezIQRuJNFYWvwXEsQJRSIBCHyvKlATHKu3L8gsG54ttyhZyIpV4f2F2fKgiP1gbjyuPH84FuyQQsRIGdQQFyRGDc+ELAoMUc8eeCUQJcUqdD+LCgFjFWJwizotW2uNmgrwQGW8GsWtBUZxyLJ5YCBekQh/PFBdGxyvixItzuGHRinjwpSACsEEgYAAprBlgIsgBwo7ehl54p+gJBlwgAVlAAByUzOCIJHmPCF7jQDH4EyIBKBgaFyDvFYAiyH8dYhVXB5Ap7y2Sj8gFTyDOB+EgD95L5aNEQ94SwWPICP/hnQsrD8abB6us/9/zg+x3hgWZCCUjHfTIUB+0JAYRA4mhxGCiLW6A++LeeAS8+sPqjDNxz8F5fLcnPCF0Eh4SrhG6CLcmCEskP0U5BnRB/WBlLjJ+zAVuBTXd8ADcB6pDZVwXNwAOuCv0w8L9oGc3yLKVccuywvhJ+28z+OFpKO3ITmSUPIzsT7b5eaSanZrbkIos1z/mRxFrxlC+2UM9P/tn/5B9PmzDf7bEFmAHsDPYCewcdgRrAAysBWvE2rGjMjy0uh7LV9egt1h5PLlQR/gPf4NPVpbJAqdapx6nL4q+QsEU2TsasCeKp0qEWdmFDBb8IggYHBHPcQTD2cnZBQDZ90Xx+noTI/9uILrt37m5fwDg0zIwMHD4OxfWAsA+D7j9m75zNkz46VAF4GwTTyopUnC47EKAbwl1uNP0gTEwBzZwPs7AHXgDfxAEwkAUiAcpYDyMPhuucwmYDKaDOaAUlIOlYBVYBzaCLWAH2A32gwZwBJwAp8EFcAlcA3fg6ukGL0AfeAc+IwhCQmgIHdFHTBBLxB5xRpiILxKERCCxSAqSjmQhIkSKTEfmIuXIcmQdshmpQfYhTcgJ5BzSidxCHiA9yGvkE4qhVFQbNUKt0JEoE2Wh4Wg8Og7NQiehxeg8dDG6Bq1Gd6H16An0AnoN7UJfoP0YwFQxXcwUc8CYGBuLwlKxTEyCzcTKsAqsGqvDmuFzvoJ1Yb3YR5yI03EG7gBXcCiegPPwSfhMfBG+Dt+B1+Nt+BX8Ad6HfyPQCIYEe4IXgUNIJmQRJhNKCRWEbYRDhFNwL3UT3hGJRF2iNdED7sUUYg5xGnERcT1xD/E4sZP4iNhPIpH0SfYkH1IUiUsqJJWS1pJ2kVpIl0ndpA8qqiomKs4qwSqpKiKVEpUKlZ0qx1QuqzxV+UzWIFuSvchRZD55KnkJeSu5mXyR3E3+TNGkWFN8KPGUHMocyhpKHeUU5S7ljaqqqpmqp2qMqlB1tuoa1b2qZ1UfqH6kalHtqGxqGlVKXUzdTj1OvUV9Q6PRrGj+tFRaIW0xrYZ2knaf9kGNruaoxlHjq81Sq1SrV7us9lKdrG6pzlIfr16sXqF+QP2ieq8GWcNKg63B1ZipUanRpHFDo1+TrjlKM0ozX3OR5k7Nc5rPtEhaVlpBWnyteVpbtE5qPaJjdHM6m86jz6VvpZ+id2sTta21Odo52uXau7U7tPt0tHRcdRJ1puhU6hzV6dLFdK10Obp5ukt09+te1/00zGgYa5hg2MJhdcMuD3uvN1zPX0+gV6a3R++a3id9hn6Qfq7+Mv0G/XsGuIGdQYzBZIMNBqcMeodrD/cezhteNnz/8NuGqKGdYazhNMMthu2G/UbGRiFGYqO1RieNeo11jf2Nc4xXGh8z7jGhm/iaCE1WmrSYPGfoMFiMPMYaRhujz9TQNNRUarrZtMP0s5m1WYJZidkes3vmFHOmeab5SvNW8z4LE4sxFtMtai1uW5ItmZbZlqstz1i+t7K2SrKab9Vg9cxaz5pjXWxda33XhmbjZzPJptrmqi3Rlmmba7ve9pIdaudml21XaXfRHrV3txfar7fvHEEY4TlCNKJ6xA0HqgPLocih1uGBo65jhGOJY4Pjy5EWI1NHLht5ZuQ3JzenPKetTndGaY0KG1UyqnnUa2c7Z55zpfNVF5pLsMssl0aXV672rgLXDa433ehuY9zmu7W6fXX3cJe417n3eFh4pHtUedxgajOjmYuYZz0JngGeszyPeH70cvcq9Nrv9Ze3g3eu907vZ6OtRwtGbx39yMfMh+uz2afLl+Gb7rvJt8vP1I/rV+330N/cn++/zf8py5aVw9rFehngFCAJOBTwnu3FnsE+HogFhgSWBXYEaQUlBK0Luh9sFpwVXBvcF+IWMi3keCghNDx0WegNjhGHx6nh9IV5hM0IawunhseFrwt/GGEXIYloHoOOCRuzYszdSMtIUWRDFIjiRK2IuhdtHT0p+nAMMSY6pjLmSeyo2OmxZ+LocRPidsa9iw+IXxJ/J8EmQZrQmqiemJZYk/g+KTBpeVJX8sjkGckXUgxShCmNqaTUxNRtqf1jg8auGtud5pZWmnZ9nPW4KePOjTcYnzf+6AT1CdwJB9IJ6UnpO9O/cKO41dz+DE5GVUYfj81bzXvB9+ev5PcIfATLBU8zfTKXZz7L8slakdWT7Zddkd0rZAvXCV/lhOZszHmfG5W7PXcgLylvT75Kfnp+k0hLlCtqm2g8ccrETrG9uFTcNclr0qpJfZJwybYCpGBcQWOhNvyRb5faSH+RPijyLaos+jA5cfKBKZpTRFPap9pNXTj1aXFw8W/T8Gm8aa3TTafPmf5gBmvG5pnIzIyZrbPMZ82b1T07ZPaOOZQ5uXN+L3EqWV7ydm7S3OZ5RvNmz3v0S8gvtaVqpZLSG/O9529cgC8QLuhY6LJw7cJvZfyy8+VO5RXlXxbxFp3/ddSva34dWJy5uGOJ+5INS4lLRUuvL/NbtmO55vLi5Y9WjFlRv5Kxsmzl21UTVp2rcK3YuJqyWrq6a03Emsa1FmuXrv2yLnvdtcqAyj1VhlULq96v56+/vMF/Q91Go43lGz9tEm66uTlkc321VXXFFuKWoi1PtiZuPfMb87eabQbbyrd93S7a3rUjdkdbjUdNzU7DnUtq0Vppbc+utF2XdgfubqxzqNu8R3dP+V6wV7r3+b70fdf3h+9vPcA8UHfQ8mDVIfqhsnqkfmp9X0N2Q1djSmNnU1hTa7N386HDjoe3HzE9UnlU5+iSY5Rj844NtBS39B8XH+89kXXiUeuE1jsnk09ebYtp6zgVfurs6eDTJ8+wzrSc9Tl75JzXuabzzPMNF9wv1Le7tR/63e33Qx3uHfUXPS42XvK81Nw5uvPYZb/LJ64EXjl9lXP1wrXIa53XE67fvJF2o+sm/+azW3m3Xt0uuv35zuy7hLtl9zTuVdw3vF/9h+0fe7rcu44+CHzQ/jDu4Z1HvEcvHhc8/tI97wntScVTk6c1z5yfHekJ7rn0fOzz7hfiF597S//U/LPqpc3Lg3/5/9Xel9zX/UryauD1ojf6b7a/dX3b2h/df/9d/rvP78s+6H/Y8ZH58cynpE9PP0/+Qvqy5qvt1+Zv4d/uDuQPDIi5Eq78VwCDFc3MBOD1dgBoKQDQ4fmMMlZx/pMXRHFmlSPwn7DijCgv7gDUwf/3mF74d3MDgL1b4fEL6qunARBNAyDeE6AuLkN18KwmP1fKChGeAzZFfs3IzwD/pijOnD/E/XMLZKqu4Of2X3qmfErlaXghAAAAbGVYSWZNTQAqAAAACAAEARoABQAAAAEAAAA+ARsABQAAAAEAAABGASgAAwAAAAEAAgAAh2kABAAAAAEAAABOAAAAAAAAAJAAAAABAAAAkAAAAAEAAqACAAQAAAABAAABA6ADAAQAAAABAAAAOwAAAABD9/L5AAAACXBIWXMAABYlAAAWJQFJUiTwAABAAElEQVR4Ae29C5QdR5nn+d1SSbL8kmQZWzbgCvmFbAySwNM2NKZC3fjFYyTRsG04w1Rqu3vB2z3HUk/vYnZnT6XOYbpN77KSdobGnqG7QsAcTE8bydM9bYOZrhSPxmCDSmCDX1ApbIyNHyr5KVuP3N8/bsa9ckllybYELinjd/LGzczIyIgvMiO+eKZZYxoJNBJoJNBIoJFAI4FGArUEWlVtGok0Emgk0EigkUAjgUYCR64EWrXpOXJF0MS8kUAjgUYCjQQaCTQSGC+BRjEYL5Fmv5FAI4FGAo0EGgkcwRJoFIMjOPGbqDcSaCTQSKCRQCOB8RJoFIPxEmn2Gwk0Emgk0EigkcARLIFGMTiCE7+JeiOBRgKNBBoJNBIYL4FGMRgvkWa/kUAjgUYCjQQaCRzBEmgUgyM48ZuoNxJoJNBIoJFAI4HxEmgUg/ESafYbCTQSaCTwapdAMLGX2W1iH6Y00ZhGAgckgUYxOCAxNY4aCTQSaCQwsQSqUnDeRcyKSOeCzvmJCugJCvrkwUNemH0xF2artqzauGqL2W12W7gNRzfZTeVN2BwFs88WwuwxJ8yqQuAgmcxEYxoJ7FMCvfs82hxsJNBIoJFAI4EDlkCrEGZlIcy+H4RZy7dcy5tNzYXZ7kxwPIKdC7PngzDb4YXZyV6YvaMUZj8LwuwpL8yGZwuzLcWWckth9q7Rd+XvGjWzxRG7fpYwW5gLs99ywqwngjupBVkMn1f4zEfM8ggHGnMkS6BRDI7k1G/i3kigkcDBkUBd0D7tn7Knvdnntn3uxs9tM/vlKmH2/gFhNi/My+cFavBZlVcZBXUuzB7MhNl/nSfM5q4VZgvWL1i9YL3Zm/M3sZnNjJitDwJ3K4TZJaVA8SiF2Te3CbNZV4muImLJ1ArA+JaEVilw5CLJ9cu2KxOYMtJRiPbrfy3PjsKSFJcUkjp8nZaYusUlKVrJ2Uu1kzySopf8J72A9CpIrwJfU/gC8QrsJ3OYKFZNV0JK0MZuJNBIoJHAS5VAXSBRoGRqqp9XzivmlWYXXSXMRpeOvn90qdn2zcLs8vKy4nLOvz+8P39/MFvqBOWMF2ZvLYTZIxcKrouYHRuOc8fi/iknzHbmggaCUT+8mJaCOcWcMIfrtgRhduLYiWwc9yIWaMULCrS6oG05geLAb8vZwTOFia5C4Gk78ewfoMKxKxfEMwiuSwXuuOsrL7oKES4PqkkKQeUEXufEKseWmpBhJzNecUnHJ6ndO0nD3QS7kUAjgUYCv3kJqJgoaAHw1Iy92dHZMf7ozOx/yoXZP90ozP7+eoFi8Bfvdpf/BYqDfwebdcyxTpi9e1Tg3yJBF4SbWk7leCqg7gx3FncGs2OWHbPomGVmfRGzrfnWsDU3u2+lMDt75Ozi7BGzXaVAwciF2VG5sE6BHYvvgv1kxhW86fBLtlNBWfuXukqmOGGW7L3uXyta6fjuQuxR8Nf+dgZZZrQpZCg+oZX1hCgnr5o9LQdBXTQHqog8E4TZ9FwQvlLgbySmb1RAns4F6ZKRLpnZtDCtmBasK88kv2RzajKapsVgMqZaE+ZGAo0EXh0SqGuQPY4mZheDVOr39EKY/dESQU3/Y8Lsus3X3njdZrOHi4fLhzk/3vjgcx/M/s+rBDV+2gHmsP9cLsx+PO/HrR/PowthodBYhLmZxiI8Y8+Uz5jZ4xGznzph9t9LQZdGEDhIJhVc4+10/iDZz3mBghSE2X8KwuzuCAVuBDsIxmaUwuy/ZcLsiVLEAj9TgX97EGbXFoKxFplgbEa+s9yRo0AEYYa6JiY0qYtgYynMPrlZmP1tLqI8kSl2IbrHV3tB+DOBg1p+yT+OHBam97CIRROJRgKNBBoJ/CYk0C1YMwoJFRSlbBQFMHtfxOw7Tph9+c+E2Y0zhdlAIaipOmF2fH5cfnyObce74w1TRoy+7dBTmL2zT9C1MCDMjotQgw3UYIPZB5cIFINVQsERKBIR/vyaTU8mzB4ohNnah4XZjFKYneFFtyvjhnUCBWG5MDtrWNA1kguzbUGYff5twmzZXwizfidU0+/JppQoEuVup1kitOQEteS0ih7fKrCt5Vpmdm8QZt/2wuz+WcLs698VZmd6Qbi9YNZHS9BCMCbMbFPEzEXkL8T7+T27NqYEwYkswp/JYZoWg8mRTk0oGwk0EpgMEqgLilicl3QtlMLsX/cJs9feLuLgxG0anPiDCE3+ESJYUrzgPl2fCpTeckrWy/HLskvLyzLGFjiBAuIF97EZ+dFmtqQUZv+mT9BlkQu6ECI4+DWbaV6YvSkThHOh6CoKO70wezJCeesFis3HBIqAE2bmIx25HLtdMNvCCxQjm1pMxZnlyC+nS8X/tLyP4//ZfS78Z8f9MkGLQgTFywsUqVKYLR8VKA5zhVmYLUifbcLsDwf+sP8PB8z+95kCxaEUpnsJYzKpe8gznbT4YvnFgpadTOzRBWKTy/RMruA2oW0k0EigkcAkkEBSEAJj1kO3YMz6BE37Xpj9PAgKpExY15RRNbA06K1yVrDZtHw6G9dF4joGpdYx2F4+l28vaUnwgtkIhaAlwgv8z9vTIu3lmsKExdiEl+7JHBMUyDcLs7F5oltw/pMXKDCzBNM3/06YPRtE193mYiRsLhikGWG2hn+zezPXpZYAq80T+RPhiZzBmLO3LNpCAU9HTFBXTJp1cZIJCviIZn0I5OYECsHVwswvEWYX2G/lF+D+DH86G+H0ggO1eSLjjhktERvvXXfvRsLvBffz9aDL5HCS2I1iMEkSqglmI4FGApNIAqkgrWuUqa99rBCsO7BQUMA5Qc2/FHvEr1YsUsEyxUTsa4+D676Wfy18LTe7YfkNq25YTs06EzjwEUvTIDnSNllse0h7+7dT+JPL2t80mLEzWyBEVSG5mtA+PhN0fYwJFl5aIWjC98LsexsFXSVLBO7eKxg7UOwodxQoQCULOZVmP1p2x+IfLaNlZIGgiyGcWJwYzFBaSikuvwqiq1AsWb3kqiWrzU61U8OpOEsKEh0zwH7WVsh2FYL7LRUoMFcLs7d4YdYbpha9uMeU+tmd7XK7M7NHg0DRqdPV9wvGmETwvxBcMMlMoxhMsgQ7bINb8sKVh2HsDpd4HS7x+HU9Yqlgre2vesHgueXC7F8NCjPnXOHciwQqFcimzgbWO7AH3YPY8zPB7IdBEcckmMYkpILPasWCQy/P1OF+LhPdJv60omLhBdMJfbsrYH83meOE2QmloMXECbN/DMLsdX2CroFCUODPFWZ3eWH2lXlfWf6VeWbnrz5/6HwK+gWRbsEec4+SaZ4RszXLBDV/9wP/AxdnQeRTsDstHrVCw5BNwP9SqEtGYBZG7NFcxPuEVibFzIIGQU5xvU7+Pe2E2X9ZLsxu2SLoGgpMtwxGAkf4M7lMz+QKbhPaw1YCdc0qveBo/8JSH17HnmwFVIrHZE+4On3SAjCd9EnpsT87xT+5m2g/HZ9kdhpV3ykIanltLgULEm0UjBEYEjRNB0FN1Pfmvd46Jk1LTDXR7aXgdF3jT2PePr/884s/v5waboTBfJkwK50w+1YQ2F5gF4LBdk6wH2EhJC/MfhIENeFcMIsiF2Y3Z8LsHwph9jffFWZMmgTcR2xvUz/3u72gIA3tQXgnLRQoSFcLWgBWChZo8pe4S3D3Ontt/jp8O/4aYfalh7/03S89TDx9e0XIJfmSsCSnAHeCgtrV6wtwjQyTBwEF6mrBfXNBl0qEsQARFJJMMAYhF8wS2SbMrlgv6JoZE2bfjUQ55ZLTfeG+4r7AfUvuWyJ3J7otH7vX7F66ew3H8xl+Rm5m3hzbpDO9ky7ELzfAZSxyrFPwJH/S8aTZeZLRp5ONfcgkMF7uqamzzlA66VRr9mk6ELOTgVAl94csgC/T4xSv8Zen4+k5G3/+1b5fyzuNvo5viX8ZgR4X/6RodGq6Kf3HuXsZd/r1XFLnF6kpujcTcV2BfGvOIMMtwuz1I4LBboVgLIBrr1swPpAPe2H215kw+71C0EJQiqhIeCkSm64R3Wl1Vpt/DoJR+5sFBdg8QY13ucDR8ojZokgs1ndz+KKI2UovuvdJo/NPzk8OJ+dmxa2Cgnqr4MKJ0ikdr99fXEbz+iWC9ReWCmYTDAua3pecnp3O8SfDE2zMRsjOWnxWhuKxUNAycpMwO6UQeBUsZ7M9nkPHXqcloned4D7PCk7Uz+/PnDBbvVHEBanG5pVmfzzwx0v+eIDZGwsE8dwgzNZtFmYXtgSzSEqBPMv2CpHP+KfLZzzpvXzrwq3LCffAWUNn4c/RbgabGflYe8OaTObVpxiUsUiY+IF7udJND2qya3+SxtkpcF6u/811L00CdTqkmlYq+NOCIlZEpJnDHl6n52OPQ6+Kvylc456vlCHtLERs0nRTHBlL5FUR8gMLRJ0ezJcHBlcZS9boSkcG7bDrAlKHXtTUGfRRQVDDCwJ5oO5Fhc/hm3tRH15dJ+t495Yi1uDDDkL4pfxL2ZdymrbnPbLskXkoBNUHt36w6qb/E17gsI5v+obCBhPUUDcKsw8XQk3YgsF0XlCA3TX3obl3sY7Bx09yJ3+cC8r29q5MMNgxwrFUMA+asDRmofNe1emallqmpgu4y4XZOUEw2DFjuGNGes2axmZam9mxWXpP90r/Ol5Ms4SuO+r70O27T10ivSYYW+COK45z6C9uef9y7NTicLYJwlXSZ18yJiNoAmd8bgo9N2khpLudoCvCCwrqIWEdc4YJsz8bFSgOoS/vCygmuSB9CsF5L2gh2CoYdFgIs9Mi1jEPlA/YAyWzIjYIknPAXeUGSK9gOZshw0JyNGy2SWOUFi9qGMvpnguM6iyxSxLEmB7DFTMK0RUk0RZmIaIHvr0FHucQp+N49ZHttF1uJ/azpcC/rD3PNWUUzMaF7oOJ07bJEWvOXxepD+7fSi/cvZmgCSsThKNoZ9SXloIXzQsesLzdlJYG2fQWYo/wvMT7W2OiBFjIpKj494viF+UvCtLB3e5vd3wcJufjMDmDiXIG/2Kfzlrypwfk7XrylrPJY+rn4tlCMFgqEzTRRroZyzu8YFRzIWzSmB2Z6PYJ377l9sW3b0FBWP784ueX835vFvuIzpgJZYzx/Z2yTFAD84KV/pyYuAa9Dx9fXYcy85YRpDr9v5V/q/xWztcNP/HZ2Z/9BAXGCNPoRqjBjwjyy40C9zdGLCmIu2YJmvivEMhjjaBJfUDQtO2F2Q/XCqY9rnitf+0K7PJ1M19b4p/FUJjG4j8RYtN2dr/naMqXPeFkP92vs7BQ1lY4TnGCQXpO4K4U5M+uvR4Dv/zn+IgwdfL3s+3f1PdFcRF2WiZoQXEC/0KtENbh7M2mWi/nz3Xn5ufqfNEevNfSfzbLCVXePc6RaPjyBJjdM090Z2Ok6Y4PO9FdD+F3nSB+xqBPfCC2heKbKipJETkjE5z37dkFqUuEMQTA/cp7s3u4btrsaSPTZhvhaz/nP81+aj/lOlf0Fa7QdMppbJPHSCYvan4Qvh9+EFgZavYnF32SiP+rZYI+p0CfE8c1ZnRHiRcBgbCfBEsyBSWUlS2vB+LZbLt/NjP7TPGZ8JmCeaEtQZNOLshAS0EGU7RHh8bHiP3kX9q3l2jSgzfLBE1w2wSDTTYLRsd6wX3qF+Q2L7p9T79wgguLCH8a83IkQDoWVWA6UDYrn5XR5JcLs6FFQ6cMLUJhcCgMjnSoFQjjyWGbdGZ6IchwcsFSuPMEC9wEgYKdtQdzTbaIpYzxVE/B4c3eOPTGwTcOmZ3Xd151Xh/TvRYI7PUCe6ag/BgS2P0C9wsETcJB0GTtxGSTxh7hdeZN4S/JH0q+jZCNhtGMmuqtZ42cRZP7aU7Q1Lxha7F1A6PYC4G9RmAvFfH8Bp0/86Ezbz7zIb6qeJeggCsFikEE/1cIFILB165/7SDPkzHfwcg3c8HCQPZ99332r90oUFAWCfaXCfYXC/bnCfZXCbOv5oL7OBEVgkyKQCzmOD41tBdQMsegPI6nloD01UhcvrhxXOUoYCNcX7ZnYbScsM59cOPlLs3C6PGC60JP0QrYnpYM9seXB0mBOKFf0FITBCsWrhLk8xH8de0lmdNzR8tD2YM74hnYuuHz7fuyJDXwnOaC82WtMJnaNqkgx04DunRywSyRzYIxDuWD/sFS/vW4Fu4mm+mdMMBlFL29yfNdL890jAXb2Ij4zTfMuuFmmsrmf6n80nyahBYINMD89dnr85hwPiZc8rhoF6g/LwUPYOur876KpNKD5XkO8N74+AhwPG9nqEmjTRlS9KXA4Us06UE8KX+NnZSTIa0/ZfUp61nScsvdY3dv4YUKu7w0P5rW2JjuEmE+6uJ75927eI8+vDoelkX2H4rAg4a/5iIWo+n3f9lLdlGnU+c+L9mDg3zBBOHhdbJWSU2oFDwvhSC9LxfIf9PuZ6tNhCW08ig3SQzTcsKMl1Z0bf6+wExw3xe4eSU7Kf2TH+nBTfu1nZ5fmiiB+OaClqg+gaMUjwN9jmp/f9MWg+SAUeF2fnk+gVkQFmQLQkyfvOWwI2bpOeyMHaiPp+lhabBaKhhSV8IBv1fc4lVl6nRMTdlLHC1fzuzi7GJ3cUZIZ1ZXxSb39TZg5Dvmeb49dm1aleD5XyKwZ2LPRCEYmtY3fYjnZ/TY7NhRFIcSxaLk/Bacb2HQnhespGhf7v8yfn3ACe4bBEMIcmGsGRwxuyrSSR/q+6JzniZ8ryb8o/Oj/dFcxxyIUi28P8x/GH7I/j87YVYuFHH9BLuN83/XJ5hmmAu6NnLBiQM1gbc9HIDjCd63VC6kfOIKEyiuo4J8Zlh0uwqQvdjLpAK/o3Ck9zS5TNe5dn6epjleXLzLXVzQsrPkOHc86TdztUAxLgSKSMbgx8wmnemdMMT1A39sIdBkw5nZmYEH7sJFCxddSJ/T1T+/5udXm41cKsxeEwQPtGsv7UnfvVWOFoVAEyTHv+e/l3/PIzgnEJgXFNSV4AXIRMxoXMthl23NLGUYaVpJ6stLK2olBcI8nnhlULWGVpDERewyCDuxt2fP+u0ZBVHWKntkr0LjW4X7wH0C+54s3ccHPNMDfm7/udW5/YQvp2bD/kQPVOqq2OUEmnXe/u46PUxZLMi4NJqiVSo85iK8YfzX5uoNSyZp/ikjTS0ZaVRuykg7GXGJLyUZhm9/ZQxFyloejxyScyg2TsQHNJuS7dGn61suulMxnNuE8eOcsBSOnSbUNCYwLmIpnTp2Oi43mNQ1k9wn/1JXkp3cyu1k0iMjRTIuqOOFnSl+qSm7MwrbtUcDdxTHLN7ZUkaBDy80PqagFEDgPl7gJEQ6bmkBA+Tl2jUL1Qt6dLaIdOLbkXfRbupM59Oa9mmBk55lgutXRKzzvMrPPUzqS93pRPc5SuFMBWq6JCnWSZ7pOFJwbJJf3CrbjcqLyerNccbpue/xrcAxh1zYT88x/pY9BcezCH/aJqUX6oHr9YQvCGq8+SPFozk1NMc/x/uSCbPZpSDdckFQouled2pG2wPuCI1QOMRecubIwTEpnUue5pLnuWyPKjdXFfG+jqOOW3meQ498jCeR3d2OlOF4et+Szam2yfEv57wTxDsumYftZrNxH7ebzayj8DqeN+1by/GDv7Sp6o9ijkn5ES2uhVpck4I1rRBmf5D/QfiDnL7vAUELTBDkn3U+nabbcX8wi6HDfXo+iaXomjr8neM6x8YXB7LdgfsHJIWd4nVlIagpe0G+GcG9F9a5X2ra79yXU9EU8Yh1zo97zjr5fnK/Hzu1KJNOwKyGUmA7wcUuYqkFovP+JTnU4enEn0v2aWr3nfc+I70zfdXyhGJOEWdVZJd467w3U0KPnxJi+vqYvlk8x8/kML0TBnOcwCheMhUwFw2yxOYgTaPXCJpKF4rOIFfjdQceGNfum7orYx5qxmhT/6R7kuN9XjCIZoUg41ggcB+EWUqgp0zQB10K3GcMusmYRlM+WTzF/puzBdmb2T/LneXPcrFJMvRi7/DP5zs8TTnuF2woMOX92c9LXiQmmdxXoPlu/M6if95I32j2/IrnMwqAIUFXhzHmwbi9L7PSxzWy7QHsGcaa3hxP04HSi8oCmEAfkxcs4RkEL2ohmAabo1jnKEpGU6BhHK+o05/aOGy2JJeRclMYKbl/uSUvsed5wUdRMkFXSyGIb4QlUQvBCxvRAyioWThBi4i7u7gbO41yZoQIcEvfVzpPOB3hZP9of4w7mv0nC4G83c/8zzjOSl4QP+KSzwnI0Qn8LQSDm7ww+xdB4E8mkKdvK3ypBrXFCaWH6C5AUiwS3PdaYVQ1IsShHQ+ORPOLXCDfUnRHHaeV3ai/Fudz/Bh/THmMj89Loefl557hUuyfHkR3PjR9sBBrdNnFGZp+1l54hSZg6NbE0liTxZkgeJlAzk5gB0FLmhc08Raiu7Z6GgT1s4WC9AyCDHRYWMeMZYIlVMOP8x9z/o5wR3EH9llBsABOKYifET/jvrngT1YX3N6ExV/ZwUq2jkFRRqIvMC7uedz57vGUweOr/N7LdO5bn+F9Arrk7CvZVzhWzC5WFrP5euBWwRLAEbNbc0EL43LB2ILA2ILAoLogoqJaTsPm7RBmLsKfg2RSPpbkVceu+5x1pOPqO4Y979yRSzpYIreSnRTO2k7vaeoyeqx4rHysIL08kvOyLci2vBXqeAb8MJ1VelLAZSqA2Q/aR90MrUL7VmifjwT5HbJ9e9peGiyYgnN/IawbrryWJ4eiyUwY6g50FY7oKud4BJfpupLQlSj0ngqP57ktBQpIJIY3KLzp2wUstwT4E4R1jY9PZne/To+koHcUhDoiLSfMOs8zf/dpavdp8Hgq8JPCnFrukkKd9jvxd7pyD5+DCSmMsMfx9DcJ2sWUN96qsodzKG+BTdf5eJ3nvI8VPLeL46m8u7C4ML+wUH4r7FVvevcbwvpB2WqCwRuZ4AUfFWbXXyPIUH8iqDEU7ekkqYZ4hwmadLxgQQgvyLhXCU7Uo2XTA5lquH/nBQ+aFxRETjCvNPtu+G7GWIWNn7nxMxvNrsyvzK7MKQCK093pBV8T84ICx4lYUOcqqCkeytMDCsTm3rW9m3nQVwiz+DhwPNXU/j4IFJ7rhNmn7dPlp3GWBuXcXgiz/1EKRu2WIvaRx7EIt6wVZv/bAkFXSymIR8arl9lehtnC4amcQV3bbtryj9vMvnHdN9Z9g/u+76PvG3jfR7tye3SZYMzSfMF83EKQAReCB7Foj834fCm68Xln8c7wTs6XuWAaVOtvVv51Cw13+OLVlwwz+MveU77baFkI9JEF1vpe/sXFX1xOS9DakZUjxONf5oKFSXJBwbtOIOfNwuwTqwV9ovWgupTBfDMXscALKvDe6IXmKQsG3+Xtz7+mQTy2moZW/CEzKtjsDn+HuwP3txS3lLcUpH8pGCTqBE2YywQK41bBx1SKZX4Z7r5eCqYZfUiY/e4iQQY2W1hHg00F748KwXMRhBS5o9x0nG1YvmHjBuTwywFhMVfNOH5CIQhmNNwv0tFrjA41oE+zEGQYVwtqyksFCvBVPat7ruoqWDeXNxc3lzxf+anlqTkKa8l4f/Y/M08wOjsXpJddUlxihNOosWOnmlInozNljaSbFygqueA5LwQnxpsSKZeczwSjwYOICm2+MEfOmeC5jVjnPaHgAhRpJ7rP90NbBAvKjAhaEJ3gPc9EVxF7Y/lGe2MZl5TNj/IxHsRlj/vYQTaebJr7/DJjCeKM/CMn/8h5P3JhMmXnt/0v7nYKGt8D3ff8DUGgAEesY9I0uDXrBM/9PwhO3xfh4wVkJf+GeP5R6+rWH3E8lbAXmkBzrD5ipLfd1brP7sLdxbi8GPurrT9rfRU5fb16uvo6+zcK0u2/C45fJLju8ggvTjvDrdYKjteDE1orBPtrIzFjI0RW/bXA3zsE9jmC418UuK/D2fp3guf3c4Lj74gwvzFi1R2C6z4lOD+R+bYJqy4W2GcJHNc1ntZ9gn3G7sHeJk1f2GLCqhkCZ/XnGlvzBOGkg7Ln8m4+37NIEL+LBdedKLiuHnxQ3SnYfzjSvW/6yES6390VkP75lE9MyeP9F+r+u5cL/H8HsxrfgQJXr6B48TbBdFMvUAwiXe9frf+Ux7yoSTXk1FSeas6+ENQYrhAUlIVAYagETYuZoIbvBDWfIPQWCgS6QWBvFRyozW1OkDEvEiq4BIJ2aMocn5PNyedkcQzAIo0BuM/d6+/j+EMZBSXHb1oszD7S9xH3kb5YDji8MZqsXQ/nbytuY6MALgUFaibiNBmnPjYyLuD+uSADuXTnG3ZeSsKX1CE5/lj2WP5YFke3hhM5v9ioUVo3I715y82n3LyFGv7ATz76kwEyWif2zki4JJq5peje99YbBRnRR88ZOOejZKgRM79AoPBsFigII4KlVYOgQMiF2cYtwuxPg+D+meD77CXjbEtaOPrvueqefhQE+5t15AfmynkDjuOLyoXFIuzT+1CxkNvtN94+cjvhYHYxmP1O8Tvl7xT403d2dTbnPz728fLjY7yPXpi9rRTka5lAYZwnWNClELFv2s63bssCH4EtfhlIL3/ThTd5XqhAEcc+6gkbNcyWIF3rAufcILi+EBS0CwV9oOsECszg+/r/5SD5S3amPysjP5y7fdX2uaTresF0MS/Ynym4nxO0jBR81rWI6VguNrqQsnP9uRlyWne3vwd/v118O3yb80uGBQWaE4wyd4LnZ4tAkcvfl70vNzvJneRP4vhsLxhTs0jw/KEO9Kw2o4vJGe4eKXk/So6X1DywfTTEv9QHdFFMS2G2eViQzu5dbIS7qLsuggmzIsKf+FrZ8wXTCAu1rAme26JWDPTasZ9M8ocaISDPvN0FlmpY0XWJaxfp2vV9kRN0M7ztmaC8ufLTyz99JZ/Znc/a9yiwH/Yfdh/2tCyVIsrPS36pqybVjGPxjbtDZVLN9+mMikmmGjidnDl385GOHFONN9Ucp2TtPmLU7rCrwH2SY5ILh2T6CkGPUSloSXqPIH/LBA6S+bcmJjS8BX/RyjidRXgRIp1wpue2ekTg/3sE7j8b6fqbwpmOJH/S/hIT3fikpQRpOoWuSf6QbWpQQbq//YeI3lsgHDsElyX3XR9e+O+3TfBd6Yil8iVd1xoUL7zkxfY6119qwpKi3JkOVKdvR8FNNdwUztqufk9wp7R0Yrpp3ZJpfRGLd9F9Ijiq5ZpaLux3cfG7vHdzdp+8ew4VoQWCQddB4D6la/L/VWr37i9cqSa9rRTdppA0WPBdXph9ba2g6XCT4MWIkFF6wSjaTJARRqzb5zpaAft1Blc/f/arywRNz9MF02+CIANz7VGiWbncspJpYOHMmWdwfN2idSvXkQHb5oi5BYKmSt/+upfVDwCThwB3qyKWjqcM8JhCcN05AnfKEjE8gK4qzH47F9RA/RgbTcfu/vIBRwEZ7mKjoHn4iRlPPEzBNLD9o9sHuK6coGnK2iY9yHQ4ADXWRYKxGEGwnwnk54TZ23PBymNXChSVAYHctwkeSNfua3ttvyAD9u2m/ZmZQAEpBEt4BkFBPioYTFYuKBaUFJzFcflxnD925NiNx6J4zFkwZ2AOckQh9DMyCjzai2dz/rjFgngOiyifQvIZ9oKC9cZ7Vt1zo9mf2J+EPzGemzCjODrwJ2tvM+oumqkbesPUDbxoo62PtwjHqKOm65g9smzTyk3LumNXUg04Nen/i0JQ0x4+dfRU7j8nP3FoTo68csa4YM+YPePGGbNRjNYv3LRwPYpPJpBHaK/AlqarfiT/1+4juN/mtpbbHC1fRguC0fWRP7j8QY6n78HrK++7g9JZ0CW1UqC4Dr67792DdEnY8cXxXCf1Rhn79CC43wbmRRO/3X6X2+1x0G+b2Owt+Vuyt+RxHrXvw92vctZ4Z/+e8h42+u4fFigKVwvkOyisa7KYxXT2uW+u+9br1th52Xn+PPZ5vgObTB5/6+cZ12WLI6mlqTcXPPe5IB6lMLkWe5nUwpJOnFEyz7tEXnOfcE+gkLn1bsghd74EwMbzVB4bjuX8XmZcPPY6/0oP1O89I4XKUwItS24ZG/J0vJfYyMZH+ejtZh9FxbUK0itUpdI7KS7Tw7QspmeJolCapCk6Jn2UJ02/TOf3Ugw6V+z7T1LYUn6YXI3PRwglEI9snOJhtZkg3dLpjr0/d+PPl0irRC6uvn+dv6X9jr8H+Ce1zKTnrPPcvdLrPenq9/YktbSlM51wj49ncjCBPVF6ROmUpAu5ofLD5H+nq3wC/15th3v3F6BdtrPYhaNUs0rrF6QmkUu9oGZ0s6DAuVVQkK05NX/tGlaKqrJyoKJAD4KMMhcoCCsE9nphHTO2WeB+ljB7z7OCmmomEHQhaFItyMiwnwyCpvzZgoxug8CeKaxrUsIHMkrct9YK7K0CZ3qMfDdB7asRa00XhLtoL3yRPt95i7vF3+Ji10k4pVAf97HZMVw/9e6pY1Pvtq4p46Ni6cHvnhj3r4hZgbVWCcLVx2jlPtyUnU0+Wcq4T90okMOzgi6atQJ7RBCPBYJra3/5F83xQXQVtNSX3qkppnCEdk2AUACX1vJp5YSNDb2vZKMEt1G2zvmHFgvGRlz2+MLHUey2b31203bkm/zvsSnWg/NkWkt7stZSwpO1PtuT0URd0ERdcN2IoCtokzB7/7BAzvkx2TE5YSgssNm0Yno2DZuCqugNxLvO8Ftfbj3c+jIFtGsPhu0opHX80uDAbxXfzL7F9Q8HQQ1YjX5GQb/suBXHLyNcIz1jPYQj1RAeD4KKxUOCmnnx1MynuL7lhHVMek5bWwSHi5YnLaxV9bAhvmysHMvitN/wDwFFyx+XHee5r2fMA/bR247efPQ23M8Stn8T2s/1HZmgxcr9xP/EIfeMQWHs05frq9xknH5opwitkuPZ7rzKKLjz9uyJpHClQVwp3rpmXybVpO/199q9nha2owT3Ldt90h25O4pK1/WBFkDAvW+vtd+Z5lm2p7HtzIQK6LZCltY3oZ4Pe1xXTgfez4hZVJcy7GQcd3WkV2hPX9voBV02QW0rin9dsBZcWSCXjBhnJhN/e/JW1pOjUDu6QBxdWuHN4U2hm49ZMgVXF933KikG6fQB23rLywNwfaDuDsCrl+Vk/P3H778sT7nolfrzUq9/qe4nitf+/MnikznR1a+643vm0fsM3C6ylV2eGow9Wj6KC+bNQregpOEVqKlcKKhJ3SwoMPtOmXlKH33kJdPSyligZdNyLqwzsGe94AXP2hkAZ6LpmykYRHeXoNzJBS9w0dbA0iA36iX2hFONZ2fYVZChL3yDm7+QGt18QV9nEN0MJGmmz+ciZpS5MsqUgVttOvvXmrA0aj5lIF8JglkWK7+3/HsrWfO8EN3BeCxoAmRoRd2EG8gicL9fkx6cPGYpRhNz6CmRcylo+gxq/KQmmwnk3S+ocTqaMJ3ZG1YLCqpM0MKSCzPzEf60zdYgaJEYEVxf0kZWotAUZL0F8vAt1/LYG1AMNmBnwjqGgj3rYW/KCsH50FYgSJ1MGvLpg6f3nz4YF8Qae66kSTkbLv4pQ4HLnyqezK1jKFABd9c/f/Nz15NOtivbydnXBkEBOTKzPJ7wfXedQNEoRBxkGBUw84TKU8DmDP7LrWt8q9BxenLz1tXd9IvFg+vGJw2eC5vDjWEzYwfsBHcCvryzuCh/Z8GYgZknbzqZ55DBTCM97Kd0SPPSZ6wQdE2tvG3tbTwH9KSHn2d4UJs0OyGtW7BjluC5c4IulPym7KYc+WwTpGfZ7sq5IPxWdkFAMYjE+xe6fxrMa/sxqQs2KZAUuOV0rmcQbDada9lj430MU/NpAYUqF/E8brrvNTIUXVMXfKmgZuEzoIEOAW7GZhUS95OSLrDLBF19m+/dci9yfSx71KnrbZvx9T8jvbP2Og5p+tuqjaLT0Gdp1PdXvKBLKggqJhEUKS8YmrRYqCtRRAUokwI0kZnie9wUz3PuaXHE5mPE2XRsPp6bH6V9HTHk4tstjGmeO+0E+bRMiufUsjfgIET4c5BMaeLgmzqclaPtw6EY5YJ08YL0CAI7a3+V8e5MmDH0GmJXS74jt8YcoRLonSjeqcAecYK+6xs3btx4I4N47JezfslFafDW/EKY+SFBzetawdiUoYuyd7B/jDsmHMP1vL65XuA7lwuasOcLVvrKBE3BhSBjzoRZEY3Zf1orumNRXrdJoBDk9Pnl9L0W9L5y3XvsvWwsJbrlW9d+cwuDt54TsWnajTqjL13wYiwTHC/ao8j/MRexCb04ruiOKt92ucDdTYKMOwgKllzwAt1dfre8m8FxH73l92/5aDejeX6DoGk/Gpr+h94++HbkwEpeQAZftmtENs6kmtW2m7dt2HYzYyD8Nzd9w5OROVbMcihmpSCcJTVL7Iuyi/xFGXILyC2YvTcI5DoizP7rGoH7XChjaw+uG9kysm0E+Xyw7wNbP9hHuMK568/lumc8wz498c/u9w9kZOgfeuy6xz7E/lYW/dyqWSCCJu+SlR5Kzs94bPtjM1BUHnpw5MGHUORqhWNxudgt5nyxrVhbbGOBkY0CxWAWg0FnUXBk57hz8OfOtYKM6Ytjj277YhzM+GcazMik1/w1gfgU7+l/b8Fa85s/d/XnOD44NvjQ4BjyHBTI0QtakoLgeCainDLJ6al5T7WemkeB3S+4fwSFKII8fHtefhpE951tIrZI2DE58W79Yt0DLRSsh+6ffz/xo4Nk9bBnjFchmDfuBV1YS4VZHieOky4LBOlWCt6XjYKMeY1A0alEVyH+1YjQAjNfW/3VPD6nPKsUdKt2r9u9ijEUGwRjPrzozlKgIIO9DUvM2vyMLrbs9HAGtmWtzGSHukAr+K8to7jIsLmlfnr8lKzHE+4geM4LYTorVGCzxdk39tPAGBcnUMxWjq0dW0nXq790yaWcT8/bF9Z9IXxhHWMx/BeGP8/xMzxdDdjv9u/O3o09qxTd5/XB1Q9e9eBquobCKfmpgUGdm7++6uuk+9FLqQosZaxKBAUha8+WebIUFOzDgvCn96oOr40zJ5RzyhNwf2mgKzpwMiM2GbZiWWCn6zKLx2lhMVUc0ij3pHB1WiY87jzXvVJT3zcpvj80ERXr4rmSdHBS1XkevDClXQxvqqjEUHA8KTJpSWM6kiC2TAW1TN1QCBTZdSiypMuFwxduuhC5newEY2k2CgYXZ4IF7YYEXV4Ra8wRJoEpeW3Gx/u5WYIaOCXg3SUP5qd2r939KV7o9YIMvBDdWQg8XoUesDctZPT4Qmrw+RvC/JwCc8NRfvoGMpSlggJkDUXIGloSLhYM4lsq8G9EsF5CLrh+RPBizBUUQJcLMq7tgoIgUBAE3K0RZCgbTi1O3YDCslSQkf17wYvxZcEgkFsF9vUC+2pBDTe0p7OdMCIoqGYJwnODwN/tAnuNIP8IAo26d8exO1CrGHK1YntGuEcE578lujW++bPmu/n4l2ZzTFTzS0vnfvsz377u259BbounL5++mBrMQ4KxGqWghcIuGLnAYt/0SB/h6J0lSBcvGNycC9KrbrF4ZOyRkUfGKMgXPuYeW8h1Rd+tfQWDGhdeUlzM/tz85KVzcU+sg+L90JqH/UNriP9TgniPCO4/dtLISWOxL3zNr3Df+w7Bym7Xn7bhNOT5+hWvX/P6FdhjgnSYK+jrd+31Bh6/8vHlj1+JHC4TFBRzBdf3COT2kDvKEU8m9eXzAoMVi/PD+YTz5Lknf+Bk3D2ynDXnl1PwzxbI+64zt595F/LIL5h1gcKztDfvXYpiuoEugQ3IY6OIz8UGPRdpbMJxG0Rssvdqsp99jUABOEVw/Objbz3+ZhQYd87ScxwFz0VHvemoi7rPwTm5QKGKcPw/Cgqstwlq3NcKwhcE5wvBc7ZGEG8neE9ce5ZNapF5fPPj2x6nIDztmtMuPI3wnDmLz9fM4jm4TrC//Yxrz9we4+MVHz7Vs6I3s70Mg/qWTsH/aWO0GYxhjwjsTGA7wXs0i7Xd8b83nzqrN2fftcfupDEpcdWFFYYgI0YxWVbs/nSFoEWu9YPZP2ihMN8keB8LgZxHBIrmYsEFV9on2IyP6Y78FufPGBEoRk5QMbhOoOBdcfZlZ1/BdQufDc8sZDr0p76z7jufIry3Ev5buc9dgjEg5Q+LH5VxgaVZC0KctjwihZV2ulItdZ2ulzrcVhsU7zEeM8lloeQydQ3xXcP+LIEdiedLnUeNHukN3fNTRgQe5JGOXGrvX7GVpjuuXvX/rly9yuwLrS9e9wXku3OGILx3CZ6zEUG+tkGgwG4QzCbaLGiB2ix4fy4UPM9LBc9RMc1PL8xGlo18d2QZLTQf2rxq84dQZJeKbr7532YLFNBM0BI5S+wRvVoxMRfZ48RB+htMEMGITXif0oTZhkjXTgrb3uEscC3j4m+6fqkJFMVIPHUk/6yqjVUTmF2joqqeGBRV9diQwI5U1VOjoqp297OiWz82s7N3D1fVrr6dbHF/SPu7I1X19KDo+vPogKiqxwdFVT0zIHA/JPAnUlVj/aKqfj4squrRUVFVOwZ29O0YiO4H5b7qj1S7hkRVbe0XVfVQv+j6/0Ql8HdYVNVzowK7X3B8SBCuftG9/3PDoqp2joquHB7pE1zfJ6rqyUHRjdeOQVFV1XCEP/s2fzvw5epvB6rqUrtk7FJS5YZRUVW/6BNV9eyg6MqzGm9GNYgTuQ214/9Uv6iqB/tFVT3cJ/CnX+DPoKg65vk+0Y1vSpexamx0DFcMMRzYPszz0C+I//Bjo4+xv3VI4O+QwN8BQTgGRFVti1TVL0dF97lJ6T02ILh+QCDfIVEpPfvYqmcjxKNPVNX9QwJ/hgX3Gd01rOf0uQjhj3TTpxO+2p9OvAfjcL7qmQhyHhKEt0/E+A4rvo8MCNI1wv2GRTee2yuBfAcF6T4sCPeoIDzD7efs6X7BcxvBn37Rld8v+wXP6aggfgOC5z1C/EafG9JzuntUVPs39fMQn4p9uR+oRJXet46/Q5XY29Tun+wTpGcd3qdHBf4M1Olex+uRIYFcIsS7X1Qds21UVNWfzhJV9ck+UVXX9omq+vMBUVUfHRFV9blRUVX/97CoqnKw7C8HeV4i3H+wfp6HX/w968gjyacaZ+rje8llsP28jHN90HZ39u/s29lfVf/fqKique8VVTXAV3kGXFXdOyq67ydvH/BejIqqumZAVNX86+eH+ddX1fDQ8ODwUEyXPr2PvIej26qqumLsivIKXuj/tRDd5/07Q6Kq3vYxUVXfHBRc0BepCB/g36ioDr6p023nsIjhHlC4U77euWFK39qm1BnajXvepgG9T6TSAFtVDewe5V/VSe9+9vvZTybdj1gpXlwjjniTlKLe9Ge8nZrmGKUem9gtaWJJo0saVoHeVnB1rYG1sil5K2M/Q+/DrkoavUpq0EFg+3qBh6RxJs2uvj6NGk19+zO9oAk4a4+q72h2jhA5/M9o9MuizX+a/nKBQp8Js9T01gl/CneKD072NGllwY77Or6p71OrKrQ8fdJecGXyp45PqpEleXTsPW+yj/+tvKdo5dQ41/UunrKOGnt4zeBrAjX1TKhmJ2xiU7SbGFPTJwv+APJ27e+Wp3CmMQFJLmnsRVpRMsm7c6Mk56CUoQZVEMOCmllGl0pmluKXxoCk9Enpd3wuqLlEcJ/Snb8yqUUhhS/WFwInyvaW1js4xQuO1fHs+FPvTw2C8Pl2H3EKR3Kf0q9T46vDwfJVQDhquxOO+nnsNNnndU2xfh6sNmn2QRqVnu6Xzh9VCvbSdcmuHaSFmpL7jrs6fAy2BM6WnS2L/5M/4+SJq7aZ6Hg6X8cntVh0mqbT+fF2fb80/T7ZHWf1+TRY8UQTe5iUbvUhluAFum42CFoIlgqz379KUFPNBU3c8wQtN5mgC2dQ0FJprEmKX2kwcyfd0vvIuX2a/cmlPp/ikd6P9Jzv08+DcJChzeWUgkG2TiCPzYIu3O2C6bAXCGZV5CK+f5nev9TlwwLMxcVcd+cVd6678wre+/4Z1dH98XzeKmgRc4IWmXUCfyoRx+zEfCKt5zFzm2Csz8cF+WrRHtvVcgL/SmHWef/4e1BMLfceL8w670EZJc+B2qT0pWuLNDcrKV1KwmXkR3KSs5frTwwl5/mrrWg53s2uqf2ZbLMFuhE4xP8mVJGSZtYfdbaO5jihZqV6xhC+1RpmailIdjq+Pzu5T3bH/bhwpPMT2Z3rxoVnouPJn/Hn0346n+x0PNkTHe9ovEme4wT+7DA15eGq+qvhvxr9K+zFa0RV/ZcIGv2gOABNvdZ49wpHklttp/MT2Sk+4+3kfvzxtJ/Oj7fT+WRPdH788fH7HTnuJx7pPuPt8f6N3+/4P8HzMt79+P2J7peOj3ef9tP5ZO/3+AD1oIGqWxPi7ysytX+d+6b3+BV5euAX/1UlaBlYI6rqrmFB9IZFVf0vs0RVfX5YdFtSYm4zVB08OeDVC0wth04NOcn9BY4O4k7KH+rn++ZKVNXZY6KqLp8lquqePsGJ+jlNIUgteZsHBC1RAyKdRX6Doqran2WmBaJP0JLTJ6rqY2OiqpatEFX1vQgtZn3tFtGOHCTxQ2nqeKUW67uGRFX9j1FRVfcNCvLDIUFLwaigZapfVNXtEVra+kXVaQlILY7fGBZVNdInui3JuNy3Sekyymlth7lJ6kYrxTMd6NhFrPtYqnlR85duZqmGEetPOa5rTW+v6zoHjvA/ST7JHicOBnMCNYNC0IcffpX9KtAX7wTrJvjfzn7b0/dciij/XDWFCU1KtwkdNCcmtQTSc5TsVxoZ1bdKPEl2XZN6pd4e6PUsFwYMtovQQuYEV+cRe6gU3RbD40xgQkT/Dq1J71OSd7IP9l3TfWr5pyXK/5/ZgkHY24XZH/9EdBcwSwt+penALSf2zqc/Uwq+vtgSLEQ1JBgs6oXZv1smGBy7hrUh12i5jf5ZNDjY+/tEXEE2O6+gRTZooisnSjwpsQ+2SXKo7b9zgsGQawWDplcLFlgrRLcl9UteMNZilSA+A4KF1zJBy1MmeKxik0scwzNLY3j+rz7B2B3X/tw0rRDCOnYdy8rvdgxXNSavhhb+pHKRf4eVadWm96DHSmL1B93Xw9bDtADU+wrWziti052rsFHLSjV9TS814YwHkg6Mlrf9m0b++5dR46IrgVTQJbt75tfyj3VMYR+3ymLWa2kJ7V+bIjA+KL+u96mMqplR0fJsmn1UHFfymftC0LUwWzB9c7boriRaL/hnnUHNKbypgK3jk1ZIvSAI1q3I2h+tS7MsBtYPrB5Yj7/ZW8vzM80eOnfrOdhnjgryn5xOi9zIl8iFCmz+xd+D9TMuvEkxZJA50JU0V7AE+o2C9U4WCLpMSsGgyuUCe4VgNlIQzL7wojv4+/lrBYOBPytQOF37o35pafC08NmI22QjToO+T2ajYuZPy07Dn1Zpju2wNwdfMTjsRXZwIphaYHi9hB3jji6PcfhdtkKtiWuvMY0EGgkcCRKo84HKWHeA+LZ8j1dFgGmeYJYFYfZ/PC1Y3+U9gm9oBBEL7lwF9/ixIqlCkaaXp3wnLUCV9t9gbyjeYNwvY1ppRk08Y14GNgqH73HWacGxLMKBg2ycCfK/SMfzmblgFtkqwbTjMUELkxeMnSjaH4+6f62gIjVfMHsjMK014E1BeAtm03iBgvAxwRLvm4TyXYG7PKL1eoCl/m9cv/ErKCCL88XDi3Pub3ytkeOpxfyQjbXgHq8G0ygGv6FUSA9WGuRJN41jsxY1Bra9TXoh6wd4bwfNkUYCjQQmqwRSgU5B3c4HiEiLLQ1+TOfPW3zeovMWM81w9KKtF1GTZ/Bc0RNw6Oot5RPsRlO3IFDjj4rDXYVgPYNSxI9z2SU4ZDBnpsGc00rBHxexjiJQKy6dfZy8qEkFfDDRKXjjHvtpoa+UD3b8TfetPU+Dok9dLGgxWCOYzRgE68VkgsGqXrAC7mLBtPj+rX5rP12zhWCdkG2CdXJmClayzIVZUkTStz6eLgXTuf3F4WKPvxHkXArSpBDWlQt/D0fTKAa/qVRNL6xvdxGk0b9Jgx8frPRijz/e7DcSaCQw+SVAcRNU4LTclKzlzChASzb7URB8VGuRYFbGzA9s/QAF21v737rkrRR8FN+eTQVvxmZpNgVH2qbEn5LjQXQ/4/6wEzip8yHuJfY29fXcQ3Td7+3yhUeS+9rfx51gFkmEJvy6JWDC+9a+sVIlsN5K2f7Y3J0mGDMQYQE6PrIy2jL7vWFBV8IswbonywQrZW4VxH9Va6WWmn/PzHdveg/y0zqg07P6JlhjTphd1xLMoipEd4xCWoAOGbTl0L30sPzXs99Y1YJoOWHWEcwRIiBifGjNOPkmOY+3D20gGt8bCTQSeFVIILQVgkeDYDDdWkGf+EJBDd9fkl3i4/TN/KiMENcFb1qqmiXCgWmJERY6ywULIZWCFUG9YEGqiD4+Nm6Mx/h8PbUUJDspErZvk1bMLb3g8+hB8DG1luArvJng2uTf+Ptxak+Tpl/PNWFWXi/wd6VgobAhwViITLBg2SzBYO75giX61wkUgmF6XlAc5tnpfh7+JEUpyS1Np7/HCxZ62yhQZIr2N3JsP+HEy8PK9E4Ym/QA1A9ex90RJqBOvA/Vn9xEYxoJNBI4kiWQU8TnFOSu/XXUG7xgpc81wuzfDgma/DNBweZfOBiZj0kDKyYWghVB/QXuAvZZPzQ/P5jdkd9R3pGb/eWqv1z+l6v4jHghGJznBEsh5z9zP+P8cD5cDmOnPvzUkmm1SffVqiZVYKVTL2hIcILwR5j9EES3b//7lwvcxc+vmiWFhn8HZE72ghVcTxRmaYl7H0R3nYu5I4Il5ecK4j8s4mfhi7eVcd2LYkpuRvuKZ7PURZDGFjztBCubDgrGWoT2UvJccUSZiRWDJIZGEUiSODR2I99DI9fG10YCk1ACG3NBn/gyYfbhTYICOBO0BDjBt2KcYKnksv1Njh+WgkFzW0T8Gm1+Nu4ZPJj14O6ogs9FFRSM2ZSNUzJqzn0i7mfaf7p4qny64LPfK+9t3UNN/NnNz8x6drPxMZBIZwnonsWCpZq3iK4isN3TS+/VRTCLTgKmO4b+oj8QjlLQFXKOMNbMjvDnpZn0rZlP/r1gUODvie607tTC+t6tIn4N073RMVYgwiwMO6Y8tn1Lju5tfp4LBjeeI7j+AhEViTwqEntfclgf2b9icFhHv4lcI4FGAo0Efo0SSE3otIrHu6re6rtfPVy9XPCNmmsFH2m7VjDIzoluQbxztmB/szD78TxBl4F7YP4DuDtq8KjfP4oaLybTzwPhgfyBgKKwWTAdcYGg5cEYvcT5M/IzizNy1keYubL605kcWECoOM/CX1XVz77Zev20FuBex73o1qjTSrN8bMqrUJmen5hNz/kGS4RwXii4bpClmdrhwtWBm9NMmP3PmcB/1/6cOrMEXIt9cxF7SyEIfimYzlgI7ltYHqeB51Wplplk0piMX5SC+G0WzFbYJBirUApWunUC+QWBO1+32NT3tcPMNIrBYZagTXQaCTQSePVKgNH4jMgnfPVG8eJankF05c/K0ZKCZ0PP8p4NjCmYdTobHwXLBH3eC4V1muB3bxAUeLmggF4h6BqwC9dQ/tqcUvCnNj/dKKg5bzg2HMt1J1x1Qv8JV3EyUFwGtBTP55a92T8WfG22oCsh5/PYuQpUhkOzz5iAks0IbWg564SjL+8LfTlfHbXLSnoKbE6EP9bSj/Xmgpq3n3LZFB9bMH7S4+wlm7T0dfoceccDj+Lj2QvYAYUown4WIWIRS10fnImGeIB1zu9wwuz5LYJvMi0UfCU4F3GWgr/Y4772N32G3RrFAKE0ppFAXQ/AGwAAAvNJREFUI4FGAo0EXrYEKFaLVuheToFVqK/+Le6txVuc2Z9nfz7651msWQfVrNM3R9pLdnPdertKdXcUigUtv0fBHSgWAzXpSrCSX3kqG10CQXTn+7Nw0thxHGdMQfGzPCoAhRSAnX5nvtMz/3/LEyufoGB8buVzq55baZ2C0BbZMjZ9oxK6LRVPF0/nTxfsl1XYXeI+ELvA9fj6HMdTi8H2a7bn26+J0whv0jRCrgu6bkYQ+BvaNfGXXNA61AJn1tnKtiKQBjdONMsrHU8tBm/3b3dv91ERy6WIva5k5YKSr3dGUGyKehAit4rmMFUIUvQmXhI5uWjsRgKNBBoJNBI4NBIo8VZboIE7xP8q2rom53hOwevagxI553Se+m7ectgljeml7V0w1gXXDi/M/n1L8JnrFcLsXasF0/wiFIRBMGshfyp7KkfhCO3BhagxZasw+S86NmdzKTRTQ6+bin1ccXx5XCEFgTUESxZgCoJZAblAn3lY8Hnnjwmzy5YIWjgy0R3EmAp0e6UmIM2AJ5JmuQ/PUnxqdzvLHcVO3D3JnI0nPes5ZHxOL4sfobOjnXVMkktS2Dpy6biY3H/SksiNYjC507EJfSOBRgJHkgTUoF8S4VRTPsC40z4AzBIoBZcXgkGIheg2+VP/Fh0FgH/7NqnATeHxNLJ7BkV6QQtFhD76IGiiD4KWgQgFbiZYajgIphmWwiwW5+z/2kyKR1IUJrpxcldE1aXbkjKR+0l6vFEMJmnCNcFuJNBIoJHAS5ZAXaClQYO0NwC+1C0SL9m//V2Qtfv40xiIzv1SOEo15tPiEQSe1e73521z/tBKoFEMDq18G98bCTQSaCTQSKCRwKSSQFIMeiZVqJvANhJoJNBIoJFAI4FGAodUAo1icEjF23jeSKCRQCOBRgKNBCaXBBrFYHKlVxPaRgKNBBoJNBJoJHBIJdAoBodUvI3njQQaCTQSaCTQSGBySaBRDCZXejWhbSTQSKCRQCOBRgKHVAL/P1xSu5XV0iLOAAAAAElFTkSuQmCC)\n"
      ],
      "metadata": {
        "id": "mJdtrgs3FTeh"
      }
    },
    {
      "cell_type": "markdown",
      "source": [
        "**La mediana (median)** es el valor central de una lista de datos ordenados de menor a mayor. Si hay un número par de valores de datos, el valor medio es uno que no está realmente en el conjunto de datos, sino el promedio de los dos valores que dividen los datos ordenados en mitades superior e inferior. En comparación con la media, que utiliza todas las observaciones, la mediana depende solo de los valores situados en el centro de los datos ordenados."
      ],
      "metadata": {
        "id": "Kv2N7xkSJHg9"
      }
    },
    {
      "cell_type": "code",
      "source": [
        "print(state['Population'].median())"
      ],
      "metadata": {
        "colab": {
          "base_uri": "https://localhost:8080/"
        },
        "id": "tODgehMGFrjP",
        "outputId": "50fe1dcc-6446-4fee-b421-c1bdf99759eb"
      },
      "execution_count": 8,
      "outputs": [
        {
          "output_type": "stream",
          "name": "stdout",
          "text": [
            "4436369.5\n"
          ]
        }
      ]
    },
    {
      "cell_type": "markdown",
      "source": [
        "La media ponderada está disponible con numpy. Para la mediana ponderada, podemos utilizar el paquete especializado `wquantiles` (https://pypi.org/project/wquantiles/).\n"
      ],
      "metadata": {
        "id": "zu4kn1U4Jhr6"
      }
    },
    {
      "cell_type": "code",
      "source": [
        "print(state['Murder.Rate'].mean())"
      ],
      "metadata": {
        "colab": {
          "base_uri": "https://localhost:8080/"
        },
        "id": "p_yW2ieFJjTF",
        "outputId": "7865b137-dba3-4846-b37e-2673da43686a"
      },
      "execution_count": 9,
      "outputs": [
        {
          "output_type": "stream",
          "name": "stdout",
          "text": [
            "4.066\n"
          ]
        }
      ]
    },
    {
      "cell_type": "markdown",
      "source": [
        "***Mediana ponderada***\n",
        "\n",
        "Valor tal que la mitad de la suma de las ponderaciones se encuentra por encima y la otra\n",
        "mitad por debajo de los datos ordenados."
      ],
      "metadata": {
        "id": "MX9msLvLMr6i"
      }
    },
    {
      "cell_type": "code",
      "source": [
        "print(np.average(state['Murder.Rate'], weights=state['Population']))"
      ],
      "metadata": {
        "colab": {
          "base_uri": "https://localhost:8080/"
        },
        "id": "R7YBrm7mMs9p",
        "outputId": "c747289c-894f-4a8e-c283-447285e69296"
      },
      "execution_count": 10,
      "outputs": [
        {
          "output_type": "stream",
          "name": "stdout",
          "text": [
            "4.445833981123393\n"
          ]
        }
      ]
    },
    {
      "cell_type": "markdown",
      "source": [
        "**La mediana ponderada** es un valor tal que la suma de las ponderaciones es igual para las mitades inferior y superior de la lista ordenada. Como la mediana, la mediana ponderada es robusta a valores atípicos."
      ],
      "metadata": {
        "id": "B1pKPe2UND5L"
      }
    },
    {
      "cell_type": "code",
      "source": [
        "print(wquantiles.median(state['Murder.Rate'], weights=state['Population']))"
      ],
      "metadata": {
        "colab": {
          "base_uri": "https://localhost:8080/"
        },
        "id": "W0snoPC6NEv6",
        "outputId": "1098b9ae-e30e-4843-c490-7b3d37b1614f"
      },
      "execution_count": 11,
      "outputs": [
        {
          "output_type": "stream",
          "name": "stdout",
          "text": [
            "4.4\n"
          ]
        }
      ]
    },
    {
      "cell_type": "markdown",
      "source": [
        "# **Percentiles y diagramas de caja**\n",
        "\n",
        "Los percentiles también son útiles para extraer un resumen de toda la distribución.  Los percentiles son especialmente indicados para extraer el\n",
        "resumen de las colas (tails) (partes de los extremos del rango) de la distribución"
      ],
      "metadata": {
        "id": "pZji5mnOx0xi"
      }
    },
    {
      "cell_type": "code",
      "source": [
        "## Percentiles y diagramas de caja\n",
        "#_Pandas_ tiene el método `cuantil` para marcos de datos.\n",
        "print(state['Murder.Rate'].quantile([0.05, 0.25, 0.5, 0.75, 0.95]))"
      ],
      "metadata": {
        "id": "5ftsAJq6x1U_",
        "outputId": "225409b9-b3e3-40e3-bd8a-5dcd39062b1c",
        "colab": {
          "base_uri": "https://localhost:8080/"
        }
      },
      "execution_count": 12,
      "outputs": [
        {
          "output_type": "stream",
          "name": "stdout",
          "text": [
            "0.05    1.600\n",
            "0.25    2.425\n",
            "0.50    4.000\n",
            "0.75    5.550\n",
            "0.95    6.510\n",
            "Name: Murder.Rate, dtype: float64\n"
          ]
        }
      ]
    },
    {
      "cell_type": "code",
      "source": [
        "percentages = [0.05, 0.25, 0.5, 0.75, 0.95]\n",
        "df = pd.DataFrame(state['Murder.Rate'].quantile(percentages))\n",
        "df.index = [f'{p * 100}%' for p in percentages]\n",
        "print(df.transpose())"
      ],
      "metadata": {
        "id": "JDCkp4LLyByW",
        "outputId": "11613e0a-93b5-4bf4-bb5d-c2acf27c69a8",
        "colab": {
          "base_uri": "https://localhost:8080/"
        }
      },
      "execution_count": 13,
      "outputs": [
        {
          "output_type": "stream",
          "name": "stdout",
          "text": [
            "             5.0%  25.0%  50.0%  75.0%  95.0%\n",
            "Murder.Rate   1.6  2.425    4.0   5.55   6.51\n"
          ]
        }
      ]
    },
    {
      "cell_type": "code",
      "source": [
        "#_Pandas_ proporciona una serie de tramas exploratorias básicas; uno de ellos son diagramas de caja\n",
        "\n",
        "ax = (state['Population']/1_000_000).plot.box(figsize=(3, 4))\n",
        "ax.set_ylabel('Population (millions)')\n",
        "\n",
        "plt.tight_layout()\n",
        "plt.show()"
      ],
      "metadata": {
        "id": "OkoIzkKMyMRd",
        "outputId": "6232d73e-9b03-495f-c7eb-15432ddb09bf",
        "colab": {
          "base_uri": "https://localhost:8080/",
          "height": 407
        }
      },
      "execution_count": 14,
      "outputs": [
        {
          "output_type": "display_data",
          "data": {
            "text/plain": [
              "<Figure size 300x400 with 1 Axes>"
            ],
            "image/png": "[encoded data removed]"
          },
          "metadata": {}
        }
      ]
    },
    {
      "cell_type": "markdown",
      "source": [
        "En este diagrama de caja, podemos ver de forma inmediata que la mediana de la población por estados es de alrededor de 5 millones, la mitad de los estados se encuentran entre aproximadamente 2 millones y 7 millones, y hay algunos valores atípicos de altos niveles de población.\n",
        "Las líneas discontinuas, denominadas bigotes (whiskers), se extienden desde las partes superior e inferior del cuadro para indicar el rango de la mayor parte de los datos."
      ],
      "metadata": {
        "id": "Ou77R11--yAR"
      }
    },
    {
      "cell_type": "markdown",
      "source": [
        "**Tabla de frecuencias e histogramas**\n",
        "El método `cut` para los datos de _pandas_ divide el conjunto de datos en contenedores. Hay varios argumentos para el método. El siguiente código crea contenedores del mismo tamaño. El método `value_counts` devuelve una tabla de frecuencia."
      ],
      "metadata": {
        "id": "ViROK5nGOC_6"
      }
    },
    {
      "cell_type": "code",
      "source": [
        "binnedPopulation = pd.cut(state['Population'], 10)\n",
        "print(binnedPopulation.value_counts())"
      ],
      "metadata": {
        "id": "aUxHy7sQ-z1w",
        "outputId": "1d2e9e25-d33a-4fc9-a41c-9f2fc45c723f",
        "colab": {
          "base_uri": "https://localhost:8080/"
        }
      },
      "execution_count": 15,
      "outputs": [
        {
          "output_type": "stream",
          "name": "stdout",
          "text": [
            "(526935.67, 4232659.0]      24\n",
            "(4232659.0, 7901692.0]      14\n",
            "(7901692.0, 11570725.0]      6\n",
            "(11570725.0, 15239758.0]     2\n",
            "(15239758.0, 18908791.0]     1\n",
            "(18908791.0, 22577824.0]     1\n",
            "(22577824.0, 26246857.0]     1\n",
            "(33584923.0, 37253956.0]     1\n",
            "(26246857.0, 29915890.0]     0\n",
            "(29915890.0, 33584923.0]     0\n",
            "Name: Population, dtype: int64\n"
          ]
        }
      ]
    },
    {
      "cell_type": "code",
      "source": [
        "binnedPopulation.name = 'binnedPopulation'\n",
        "df = pd.concat([state, binnedPopulation], axis=1)\n",
        "df = df.sort_values(by='Population')\n",
        "\n",
        "groups = []\n",
        "for group, subset in df.groupby(by='binnedPopulation'):\n",
        "    groups.append({\n",
        "        'BinRange': group,\n",
        "        'Count': len(subset),\n",
        "        'States': ','.join(subset.Abbreviation)\n",
        "    })\n",
        "print(pd.DataFrame(groups))"
      ],
      "metadata": {
        "id": "eWe1l2YnOCln",
        "outputId": "e6a12716-1ef9-43a7-aad4-66b85ce39b48",
        "colab": {
          "base_uri": "https://localhost:8080/"
        }
      },
      "execution_count": 16,
      "outputs": [
        {
          "output_type": "stream",
          "name": "stdout",
          "text": [
            "                   BinRange  Count  \\\n",
            "0    (526935.67, 4232659.0]     24   \n",
            "1    (4232659.0, 7901692.0]     14   \n",
            "2   (7901692.0, 11570725.0]      6   \n",
            "3  (11570725.0, 15239758.0]      2   \n",
            "4  (15239758.0, 18908791.0]      1   \n",
            "5  (18908791.0, 22577824.0]      1   \n",
            "6  (22577824.0, 26246857.0]      1   \n",
            "7  (26246857.0, 29915890.0]      0   \n",
            "8  (29915890.0, 33584923.0]      0   \n",
            "9  (33584923.0, 37253956.0]      1   \n",
            "\n",
            "                                              States  \n",
            "0  WY,VT,ND,AK,SD,DE,MT,RI,NH,ME,HI,ID,NE,WV,NM,N...  \n",
            "1          KY,LA,SC,AL,CO,MN,WI,MD,MO,TN,AZ,IN,MA,WA  \n",
            "2                                  VA,NJ,NC,GA,MI,OH  \n",
            "3                                              PA,IL  \n",
            "4                                                 FL  \n",
            "5                                                 NY  \n",
            "6                                                 TX  \n",
            "7                                                     \n",
            "8                                                     \n",
            "9                                                 CA  \n"
          ]
        }
      ]
    },
    {
      "cell_type": "markdown",
      "source": [
        "**El histograma** es un modo de visualizar la tabla de frecuencias, con contenedores en el eje x y los valores de los datos en el eje y.\n",
        "En general, los histogramas se representan gráficamente teniendo en cuenta que:\n",
        "\n",
        "* Los contenedores vacíos se incluyen en el gráfico.\n",
        "* Los contenedores tienen la misma anchura.\n",
        "* El número de contenedores (o, de manera equivalente, el tamaño del contenedor) depende del usuario.\n",
        "* Las barras son contiguas: no se muestran espacios vacíos entre las barras, a menos quehaya un contenedor vacío."
      ],
      "metadata": {
        "id": "ONDFk3VfTuMY"
      }
    },
    {
      "cell_type": "code",
      "source": [
        "# _Pandas_ también admite histogramas para análisis de datos exploratorios.\n",
        "\n",
        "ax = (state['Population'] / 1_000_000).plot.hist(figsize=(4, 4))\n",
        "ax.set_xlabel('Population (millions)')\n",
        "\n",
        "plt.tight_layout()\n",
        "plt.show()"
      ],
      "metadata": {
        "id": "M1FkzffJSrlE",
        "outputId": "dd4f7bef-85c2-4263-958f-698434a7613f",
        "colab": {
          "base_uri": "https://localhost:8080/",
          "height": 406
        }
      },
      "execution_count": 17,
      "outputs": [
        {
          "output_type": "display_data",
          "data": {
            "text/plain": [
              "<Figure size 400x400 with 1 Axes>"
            ],
            "image/png": "[encoded data removed]"
          },
          "metadata": {}
        }
      ]
    },
    {
      "cell_type": "markdown",
      "source": [
        "**Diagrama y estimación de la curva de densidad**\n",
        "\n",
        "Relacionado con el histograma existe el diagrama de densidad, que muestra la distribución de los valores de los datos mediante una línea continua.\n",
        "\n",
        "Un diagrama de densidad se puede considerar como un histograma suavizado, aunque normalmente se calcula directamente a partir de los datos a través de una estimación de la densidad del núcleo."
      ],
      "metadata": {
        "id": "24augE_GTqxA"
      }
    },
    {
      "cell_type": "markdown",
      "source": [
        " Estimaciones de densidad\n",
        "La densidad es una alternativa a los histogramas que puede proporcionar más información sobre la distribución de los puntos de datos. Utilice el argumento `bw_method` para controlar la suavidad de la curva de densidad."
      ],
      "metadata": {
        "id": "NWZNavuNVNc3"
      }
    },
    {
      "cell_type": "code",
      "source": [
        "ax = state['Murder.Rate'].plot.hist(density=True, xlim=[0, 12],\n",
        "                                    bins=range(1,12), figsize=(4, 4))\n",
        "state['Murder.Rate'].plot.density(ax=ax)\n",
        "ax.set_xlabel('Murder Rate (per 100,000)')\n",
        "\n",
        "plt.tight_layout()\n",
        "plt.show()"
      ],
      "metadata": {
        "id": "iWzlYsJvURNi",
        "outputId": "ae84290c-8bdc-4868-923a-991a94e5d38b",
        "colab": {
          "base_uri": "https://localhost:8080/",
          "height": 407
        }
      },
      "execution_count": 18,
      "outputs": [
        {
          "output_type": "display_data",
          "data": {
            "text/plain": [
              "<Figure size 400x400 with 1 Axes>"
            ],
            "image/png": "[encoded data removed]"
          },
          "metadata": {}
        }
      ]
    }
  ]
}