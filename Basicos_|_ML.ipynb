{
  "nbformat": 4,
  "nbformat_minor": 0,
  "metadata": {
    "colab": {
      "provenance": [],
      "authorship_tag": "ABX9TyMLDkTnFdZ8ugRsyUDXMnw2",
      "include_colab_link": true
    },
    "kernelspec": {
      "name": "python3",
      "display_name": "Python 3"
    },
    "language_info": {
      "name": "python"
    }
  },
  "cells": [
    {
      "cell_type": "markdown",
      "metadata": {
        "id": "view-in-github",
        "colab_type": "text"
      },
      "source": [
        "<a href=\"https://colab.research.google.com/github/christmasv/Estrategias-Efectivas-de-Gestion-y-Desarrollo-de-Proyectos-de-BI/blob/main/Basicos_%7C_ML.ipynb\" target=\"_parent\"><img src=\"https://colab.research.google.com/assets/colab-badge.svg\" alt=\"Open In Colab\"/></a>"
      ]
    },
    {
      "cell_type": "markdown",
      "source": [
        "# Basicos | Machine Learning\n",
        "\n",
        "\n",
        " **Author** = [Christopher Soto](https://twitter.com/csv_81)\n",
        "\n",
        "    @article{khrizoto,     \n",
        "    Title        = {Basicos | ML},\n",
        "    Howpublished = {\\url{https://khrizoto.wordpress.com/}},\n",
        "    Year         = {2023}\n",
        "    }\n",
        "\n",
        "**Descripción:**"
      ],
      "metadata": {
        "id": "tHUwxO6YpWPV"
      }
    },
    {
      "cell_type": "markdown",
      "source": [
        "# **Análisis Exploratorio de Datos (EDA) en el Contexto de Machine Learning**\n",
        "\n",
        "El Análisis Exploratorio de Datos (EDA) es un componente esencial en el proceso de preparación de datos en Machine Learning. Este enfoque implica examinar y comprender el conjunto de datos antes de aplicar modelos de aprendizaje automático.\n",
        "\n",
        "Aqui vamos a analizar los aspectos claves:\n",
        "\n",
        "1.   Visualización de Datos\n",
        "2.   Resumen Estadístico\n",
        "3.   Manejo de Datos Faltantes\n",
        "4.   Detección de Anomalías\n",
        "5.   Exploración de Relaciones\n",
        "\n",
        "En la travesía hacia la construcción de modelos de aprendizaje automático, el primer paso crucial es adentrarse en la comprensión profunda de los datos. En este viaje, contar con la biblioteca Pandas se convierte en una herramienta indispensable. Pandas, ampliamente reconocida como la piedra angular en la caja de herramientas de los científicos de datos, facilita la exploración y manipulación de datos de manera eficiente."
      ],
      "metadata": {
        "id": "_cZvR6r3HkZe"
      }
    },
    {
      "cell_type": "code",
      "source": [
        "# Sintaxis:\n",
        "import pandas as pd"
      ],
      "metadata": {
        "id": "DPYjp5DSKOxi"
      },
      "execution_count": null,
      "outputs": []
    },
    {
      "cell_type": "markdown",
      "source": [
        "La parte más importante de la biblioteca Pandas es el DataFrame. Un DataFrame contiene el tipo de datos que podría considerar una tabla. Esto es similar a una hoja en Excel o una tabla en una base de datos SQL.\n",
        "\n",
        "Utilizaremos un dataset académico \"Melbourne Housing Snapshot\""
      ],
      "metadata": {
        "id": "NL1I7xAPLNpU"
      }
    },
    {
      "cell_type": "code",
      "source": [
        "#Importamos el dataframe\n",
        "melbourne_file_path = '/content/melb_data.csv'\n"
      ],
      "metadata": {
        "id": "fwPLrMG-Lp2w"
      },
      "execution_count": null,
      "outputs": []
    },
    {
      "cell_type": "code",
      "source": [
        "#Leer los datos y almacenarlos en DataFrame titulado melbourne_data\n",
        "melbourne_data = pd.read_csv(melbourne_file_path)"
      ],
      "metadata": {
        "id": "0g2SG52dM3Jd"
      },
      "execution_count": null,
      "outputs": []
    },
    {
      "cell_type": "code",
      "source": [
        "#Imprimir información de los estadisticos del dataframe utilizando el comando \"describe()\"\"\n",
        "melbourne_data.describe()"
      ],
      "metadata": {
        "id": "MDSjW7FCNrKB",
        "colab": {
          "base_uri": "https://localhost:8080/",
          "height": 320
        },
        "outputId": "c62c1614-7ae7-439f-c2d4-fa9f7100e695"
      },
      "execution_count": null,
      "outputs": [
        {
          "output_type": "execute_result",
          "data": {
            "text/plain": [
              "              Rooms         Price      Distance      Postcode      Bedroom2  \\\n",
              "count  13580.000000  1.358000e+04  13580.000000  13580.000000  13580.000000   \n",
              "mean       2.937997  1.075684e+06     10.137776   3105.301915      2.914728   \n",
              "std        0.955748  6.393107e+05      5.868725     90.676964      0.965921   \n",
              "min        1.000000  8.500000e+04      0.000000   3000.000000      0.000000   \n",
              "25%        2.000000  6.500000e+05      6.100000   3044.000000      2.000000   \n",
              "50%        3.000000  9.030000e+05      9.200000   3084.000000      3.000000   \n",
              "75%        3.000000  1.330000e+06     13.000000   3148.000000      3.000000   \n",
              "max       10.000000  9.000000e+06     48.100000   3977.000000     20.000000   \n",
              "\n",
              "           Bathroom           Car       Landsize  BuildingArea    YearBuilt  \\\n",
              "count  13580.000000  13518.000000   13580.000000   7130.000000  8205.000000   \n",
              "mean       1.534242      1.610075     558.416127    151.967650  1964.684217   \n",
              "std        0.691712      0.962634    3990.669241    541.014538    37.273762   \n",
              "min        0.000000      0.000000       0.000000      0.000000  1196.000000   \n",
              "25%        1.000000      1.000000     177.000000     93.000000  1940.000000   \n",
              "50%        1.000000      2.000000     440.000000    126.000000  1970.000000   \n",
              "75%        2.000000      2.000000     651.000000    174.000000  1999.000000   \n",
              "max        8.000000     10.000000  433014.000000  44515.000000  2018.000000   \n",
              "\n",
              "          Lattitude    Longtitude  Propertycount  \n",
              "count  13580.000000  13580.000000   13580.000000  \n",
              "mean     -37.809203    144.995216    7454.417378  \n",
              "std        0.079260      0.103916    4378.581772  \n",
              "min      -38.182550    144.431810     249.000000  \n",
              "25%      -37.856822    144.929600    4380.000000  \n",
              "50%      -37.802355    145.000100    6555.000000  \n",
              "75%      -37.756400    145.058305   10331.000000  \n",
              "max      -37.408530    145.526350   21650.000000  "
            ],
            "text/html": [
              "\n",
              "  <div id=\"df-42e28ae7-c957-400f-873c-6fc2db7ab583\" class=\"colab-df-container\">\n",
              "    <div>\n",
              "<style scoped>\n",
              "    .dataframe tbody tr th:only-of-type {\n",
              "        vertical-align: middle;\n",
              "    }\n",
              "\n",
              "    .dataframe tbody tr th {\n",
              "        vertical-align: top;\n",
              "    }\n",
              "\n",
              "    .dataframe thead th {\n",
              "        text-align: right;\n",
              "    }\n",
              "</style>\n",
              "<table border=\"1\" class=\"dataframe\">\n",
              "  <thead>\n",
              "    <tr style=\"text-align: right;\">\n",
              "      <th></th>\n",
              "      <th>Rooms</th>\n",
              "      <th>Price</th>\n",
              "      <th>Distance</th>\n",
              "      <th>Postcode</th>\n",
              "      <th>Bedroom2</th>\n",
              "      <th>Bathroom</th>\n",
              "      <th>Car</th>\n",
              "      <th>Landsize</th>\n",
              "      <th>BuildingArea</th>\n",
              "      <th>YearBuilt</th>\n",
              "      <th>Lattitude</th>\n",
              "      <th>Longtitude</th>\n",
              "      <th>Propertycount</th>\n",
              "    </tr>\n",
              "  </thead>\n",
              "  <tbody>\n",
              "    <tr>\n",
              "      <th>count</th>\n",
              "      <td>13580.000000</td>\n",
              "      <td>1.358000e+04</td>\n",
              "      <td>13580.000000</td>\n",
              "      <td>13580.000000</td>\n",
              "      <td>13580.000000</td>\n",
              "      <td>13580.000000</td>\n",
              "      <td>13518.000000</td>\n",
              "      <td>13580.000000</td>\n",
              "      <td>7130.000000</td>\n",
              "      <td>8205.000000</td>\n",
              "      <td>13580.000000</td>\n",
              "      <td>13580.000000</td>\n",
              "      <td>13580.000000</td>\n",
              "    </tr>\n",
              "    <tr>\n",
              "      <th>mean</th>\n",
              "      <td>2.937997</td>\n",
              "      <td>1.075684e+06</td>\n",
              "      <td>10.137776</td>\n",
              "      <td>3105.301915</td>\n",
              "      <td>2.914728</td>\n",
              "      <td>1.534242</td>\n",
              "      <td>1.610075</td>\n",
              "      <td>558.416127</td>\n",
              "      <td>151.967650</td>\n",
              "      <td>1964.684217</td>\n",
              "      <td>-37.809203</td>\n",
              "      <td>144.995216</td>\n",
              "      <td>7454.417378</td>\n",
              "    </tr>\n",
              "    <tr>\n",
              "      <th>std</th>\n",
              "      <td>0.955748</td>\n",
              "      <td>6.393107e+05</td>\n",
              "      <td>5.868725</td>\n",
              "      <td>90.676964</td>\n",
              "      <td>0.965921</td>\n",
              "      <td>0.691712</td>\n",
              "      <td>0.962634</td>\n",
              "      <td>3990.669241</td>\n",
              "      <td>541.014538</td>\n",
              "      <td>37.273762</td>\n",
              "      <td>0.079260</td>\n",
              "      <td>0.103916</td>\n",
              "      <td>4378.581772</td>\n",
              "    </tr>\n",
              "    <tr>\n",
              "      <th>min</th>\n",
              "      <td>1.000000</td>\n",
              "      <td>8.500000e+04</td>\n",
              "      <td>0.000000</td>\n",
              "      <td>3000.000000</td>\n",
              "      <td>0.000000</td>\n",
              "      <td>0.000000</td>\n",
              "      <td>0.000000</td>\n",
              "      <td>0.000000</td>\n",
              "      <td>0.000000</td>\n",
              "      <td>1196.000000</td>\n",
              "      <td>-38.182550</td>\n",
              "      <td>144.431810</td>\n",
              "      <td>249.000000</td>\n",
              "    </tr>\n",
              "    <tr>\n",
              "      <th>25%</th>\n",
              "      <td>2.000000</td>\n",
              "      <td>6.500000e+05</td>\n",
              "      <td>6.100000</td>\n",
              "      <td>3044.000000</td>\n",
              "      <td>2.000000</td>\n",
              "      <td>1.000000</td>\n",
              "      <td>1.000000</td>\n",
              "      <td>177.000000</td>\n",
              "      <td>93.000000</td>\n",
              "      <td>1940.000000</td>\n",
              "      <td>-37.856822</td>\n",
              "      <td>144.929600</td>\n",
              "      <td>4380.000000</td>\n",
              "    </tr>\n",
              "    <tr>\n",
              "      <th>50%</th>\n",
              "      <td>3.000000</td>\n",
              "      <td>9.030000e+05</td>\n",
              "      <td>9.200000</td>\n",
              "      <td>3084.000000</td>\n",
              "      <td>3.000000</td>\n",
              "      <td>1.000000</td>\n",
              "      <td>2.000000</td>\n",
              "      <td>440.000000</td>\n",
              "      <td>126.000000</td>\n",
              "      <td>1970.000000</td>\n",
              "      <td>-37.802355</td>\n",
              "      <td>145.000100</td>\n",
              "      <td>6555.000000</td>\n",
              "    </tr>\n",
              "    <tr>\n",
              "      <th>75%</th>\n",
              "      <td>3.000000</td>\n",
              "      <td>1.330000e+06</td>\n",
              "      <td>13.000000</td>\n",
              "      <td>3148.000000</td>\n",
              "      <td>3.000000</td>\n",
              "      <td>2.000000</td>\n",
              "      <td>2.000000</td>\n",
              "      <td>651.000000</td>\n",
              "      <td>174.000000</td>\n",
              "      <td>1999.000000</td>\n",
              "      <td>-37.756400</td>\n",
              "      <td>145.058305</td>\n",
              "      <td>10331.000000</td>\n",
              "    </tr>\n",
              "    <tr>\n",
              "      <th>max</th>\n",
              "      <td>10.000000</td>\n",
              "      <td>9.000000e+06</td>\n",
              "      <td>48.100000</td>\n",
              "      <td>3977.000000</td>\n",
              "      <td>20.000000</td>\n",
              "      <td>8.000000</td>\n",
              "      <td>10.000000</td>\n",
              "      <td>433014.000000</td>\n",
              "      <td>44515.000000</td>\n",
              "      <td>2018.000000</td>\n",
              "      <td>-37.408530</td>\n",
              "      <td>145.526350</td>\n",
              "      <td>21650.000000</td>\n",
              "    </tr>\n",
              "  </tbody>\n",
              "</table>\n",
              "</div>\n",
              "    <div class=\"colab-df-buttons\">\n",
              "\n",
              "  <div class=\"colab-df-container\">\n",
              "    <button class=\"colab-df-convert\" onclick=\"convertToInteractive('df-42e28ae7-c957-400f-873c-6fc2db7ab583')\"\n",
              "            title=\"Convert this dataframe to an interactive table.\"\n",
              "            style=\"display:none;\">\n",
              "\n",
              "  <svg xmlns=\"http://www.w3.org/2000/svg\" height=\"24px\" viewBox=\"0 -960 960 960\">\n",
              "    <path d=\"M120-120v-720h720v720H120Zm60-500h600v-160H180v160Zm220 220h160v-160H400v160Zm0 220h160v-160H400v160ZM180-400h160v-160H180v160Zm440 0h160v-160H620v160ZM180-180h160v-160H180v160Zm440 0h160v-160H620v160Z\"/>\n",
              "  </svg>\n",
              "    </button>\n",
              "\n",
              "  <style>\n",
              "    .colab-df-container {\n",
              "      display:flex;\n",
              "      gap: 12px;\n",
              "    }\n",
              "\n",
              "    .colab-df-convert {\n",
              "      background-color: #E8F0FE;\n",
              "      border: none;\n",
              "      border-radius: 50%;\n",
              "      cursor: pointer;\n",
              "      display: none;\n",
              "      fill: #1967D2;\n",
              "      height: 32px;\n",
              "      padding: 0 0 0 0;\n",
              "      width: 32px;\n",
              "    }\n",
              "\n",
              "    .colab-df-convert:hover {\n",
              "      background-color: #E2EBFA;\n",
              "      box-shadow: 0px 1px 2px rgba(60, 64, 67, 0.3), 0px 1px 3px 1px rgba(60, 64, 67, 0.15);\n",
              "      fill: #174EA6;\n",
              "    }\n",
              "\n",
              "    .colab-df-buttons div {\n",
              "      margin-bottom: 4px;\n",
              "    }\n",
              "\n",
              "    [theme=dark] .colab-df-convert {\n",
              "      background-color: #3B4455;\n",
              "      fill: #D2E3FC;\n",
              "    }\n",
              "\n",
              "    [theme=dark] .colab-df-convert:hover {\n",
              "      background-color: #434B5C;\n",
              "      box-shadow: 0px 1px 3px 1px rgba(0, 0, 0, 0.15);\n",
              "      filter: drop-shadow(0px 1px 2px rgba(0, 0, 0, 0.3));\n",
              "      fill: #FFFFFF;\n",
              "    }\n",
              "  </style>\n",
              "\n",
              "    <script>\n",
              "      const buttonEl =\n",
              "        document.querySelector('#df-42e28ae7-c957-400f-873c-6fc2db7ab583 button.colab-df-convert');\n",
              "      buttonEl.style.display =\n",
              "        google.colab.kernel.accessAllowed ? 'block' : 'none';\n",
              "\n",
              "      async function convertToInteractive(key) {\n",
              "        const element = document.querySelector('#df-42e28ae7-c957-400f-873c-6fc2db7ab583');\n",
              "        const dataTable =\n",
              "          await google.colab.kernel.invokeFunction('convertToInteractive',\n",
              "                                                    [key], {});\n",
              "        if (!dataTable) return;\n",
              "\n",
              "        const docLinkHtml = 'Like what you see? Visit the ' +\n",
              "          '<a target=\"_blank\" href=https://colab.research.google.com/notebooks/data_table.ipynb>data table notebook</a>'\n",
              "          + ' to learn more about interactive tables.';\n",
              "        element.innerHTML = '';\n",
              "        dataTable['output_type'] = 'display_data';\n",
              "        await google.colab.output.renderOutput(dataTable, element);\n",
              "        const docLink = document.createElement('div');\n",
              "        docLink.innerHTML = docLinkHtml;\n",
              "        element.appendChild(docLink);\n",
              "      }\n",
              "    </script>\n",
              "  </div>\n",
              "\n",
              "\n",
              "<div id=\"df-f1c18aca-cb6d-4210-a8bf-c0cd5bc0b7b9\">\n",
              "  <button class=\"colab-df-quickchart\" onclick=\"quickchart('df-f1c18aca-cb6d-4210-a8bf-c0cd5bc0b7b9')\"\n",
              "            title=\"Suggest charts\"\n",
              "            style=\"display:none;\">\n",
              "\n",
              "<svg xmlns=\"http://www.w3.org/2000/svg\" height=\"24px\"viewBox=\"0 0 24 24\"\n",
              "     width=\"24px\">\n",
              "    <g>\n",
              "        <path d=\"M19 3H5c-1.1 0-2 .9-2 2v14c0 1.1.9 2 2 2h14c1.1 0 2-.9 2-2V5c0-1.1-.9-2-2-2zM9 17H7v-7h2v7zm4 0h-2V7h2v10zm4 0h-2v-4h2v4z\"/>\n",
              "    </g>\n",
              "</svg>\n",
              "  </button>\n",
              "\n",
              "<style>\n",
              "  .colab-df-quickchart {\n",
              "      --bg-color: #E8F0FE;\n",
              "      --fill-color: #1967D2;\n",
              "      --hover-bg-color: #E2EBFA;\n",
              "      --hover-fill-color: #174EA6;\n",
              "      --disabled-fill-color: #AAA;\n",
              "      --disabled-bg-color: #DDD;\n",
              "  }\n",
              "\n",
              "  [theme=dark] .colab-df-quickchart {\n",
              "      --bg-color: #3B4455;\n",
              "      --fill-color: #D2E3FC;\n",
              "      --hover-bg-color: #434B5C;\n",
              "      --hover-fill-color: #FFFFFF;\n",
              "      --disabled-bg-color: #3B4455;\n",
              "      --disabled-fill-color: #666;\n",
              "  }\n",
              "\n",
              "  .colab-df-quickchart {\n",
              "    background-color: var(--bg-color);\n",
              "    border: none;\n",
              "    border-radius: 50%;\n",
              "    cursor: pointer;\n",
              "    display: none;\n",
              "    fill: var(--fill-color);\n",
              "    height: 32px;\n",
              "    padding: 0;\n",
              "    width: 32px;\n",
              "  }\n",
              "\n",
              "  .colab-df-quickchart:hover {\n",
              "    background-color: var(--hover-bg-color);\n",
              "    box-shadow: 0 1px 2px rgba(60, 64, 67, 0.3), 0 1px 3px 1px rgba(60, 64, 67, 0.15);\n",
              "    fill: var(--button-hover-fill-color);\n",
              "  }\n",
              "\n",
              "  .colab-df-quickchart-complete:disabled,\n",
              "  .colab-df-quickchart-complete:disabled:hover {\n",
              "    background-color: var(--disabled-bg-color);\n",
              "    fill: var(--disabled-fill-color);\n",
              "    box-shadow: none;\n",
              "  }\n",
              "\n",
              "  .colab-df-spinner {\n",
              "    border: 2px solid var(--fill-color);\n",
              "    border-color: transparent;\n",
              "    border-bottom-color: var(--fill-color);\n",
              "    animation:\n",
              "      spin 1s steps(1) infinite;\n",
              "  }\n",
              "\n",
              "  @keyframes spin {\n",
              "    0% {\n",
              "      border-color: transparent;\n",
              "      border-bottom-color: var(--fill-color);\n",
              "      border-left-color: var(--fill-color);\n",
              "    }\n",
              "    20% {\n",
              "      border-color: transparent;\n",
              "      border-left-color: var(--fill-color);\n",
              "      border-top-color: var(--fill-color);\n",
              "    }\n",
              "    30% {\n",
              "      border-color: transparent;\n",
              "      border-left-color: var(--fill-color);\n",
              "      border-top-color: var(--fill-color);\n",
              "      border-right-color: var(--fill-color);\n",
              "    }\n",
              "    40% {\n",
              "      border-color: transparent;\n",
              "      border-right-color: var(--fill-color);\n",
              "      border-top-color: var(--fill-color);\n",
              "    }\n",
              "    60% {\n",
              "      border-color: transparent;\n",
              "      border-right-color: var(--fill-color);\n",
              "    }\n",
              "    80% {\n",
              "      border-color: transparent;\n",
              "      border-right-color: var(--fill-color);\n",
              "      border-bottom-color: var(--fill-color);\n",
              "    }\n",
              "    90% {\n",
              "      border-color: transparent;\n",
              "      border-bottom-color: var(--fill-color);\n",
              "    }\n",
              "  }\n",
              "</style>\n",
              "\n",
              "  <script>\n",
              "    async function quickchart(key) {\n",
              "      const quickchartButtonEl =\n",
              "        document.querySelector('#' + key + ' button');\n",
              "      quickchartButtonEl.disabled = true;  // To prevent multiple clicks.\n",
              "      quickchartButtonEl.classList.add('colab-df-spinner');\n",
              "      try {\n",
              "        const charts = await google.colab.kernel.invokeFunction(\n",
              "            'suggestCharts', [key], {});\n",
              "      } catch (error) {\n",
              "        console.error('Error during call to suggestCharts:', error);\n",
              "      }\n",
              "      quickchartButtonEl.classList.remove('colab-df-spinner');\n",
              "      quickchartButtonEl.classList.add('colab-df-quickchart-complete');\n",
              "    }\n",
              "    (() => {\n",
              "      let quickchartButtonEl =\n",
              "        document.querySelector('#df-f1c18aca-cb6d-4210-a8bf-c0cd5bc0b7b9 button');\n",
              "      quickchartButtonEl.style.display =\n",
              "        google.colab.kernel.accessAllowed ? 'block' : 'none';\n",
              "    })();\n",
              "  </script>\n",
              "</div>\n",
              "    </div>\n",
              "  </div>\n"
            ]
          },
          "metadata": {},
          "execution_count": 4
        }
      ]
    },
    {
      "cell_type": "markdown",
      "source": [
        "\n",
        "La interpretación de los datos estadísticos implica analizar los 8 números asociados con cada columna en el conjunto de datos original. El recuento indica cuántas filas contienen valores no faltantes. La presencia de valores faltantes se debe a diversas razones, como la falta de recopilación de datos específicos.\n",
        "\n",
        "La media representa el promedio, mientras que la desviación estándar (std) mide la dispersión numérica de los valores. Para comprender los valores mínimo, 25%, 50%, 75%, y máximo, visualice ordenar cada columna de menor a mayor. El mínimo es el valor más pequeño. El 25% es el valor que supera al 25% de los datos y es inferior al 75%. De manera similar, los percentiles 50 y 75 se definen, y el máximo es el valor más grande. Este enfoque proporciona una visión detallada de la distribución y variabilidad de los datos."
      ],
      "metadata": {
        "id": "oiz8SffgPone"
      }
    },
    {
      "cell_type": "markdown",
      "source": [
        "¿Cómo puedes reducir esta abrumadora cantidad de datos a algo que puedas entender? Comenzaremos eligiendo algunas variables usando nuestra intuición. Cursos posteriores le mostrarán técnicas estadísticas para priorizar variables automáticamente. Para elegir variables"
      ],
      "metadata": {
        "id": "M2NrzvUsTJgu"
      }
    },
    {
      "cell_type": "code",
      "source": [
        "#Metodo para listar las columnas\n",
        "melbourne_data.columns"
      ],
      "metadata": {
        "id": "SntBQiqPTZSf",
        "colab": {
          "base_uri": "https://localhost:8080/"
        },
        "outputId": "a33016be-dd3f-4541-9d0e-2021ab2fd14e"
      },
      "execution_count": null,
      "outputs": [
        {
          "output_type": "execute_result",
          "data": {
            "text/plain": [
              "Index(['Suburb', 'Address', 'Rooms', 'Type', 'Price', 'Method', 'SellerG',\n",
              "       'Date', 'Distance', 'Postcode', 'Bedroom2', 'Bathroom', 'Car',\n",
              "       'Landsize', 'BuildingArea', 'YearBuilt', 'CouncilArea', 'Lattitude',\n",
              "       'Longtitude', 'Regionname', 'Propertycount'],\n",
              "      dtype='object')"
            ]
          },
          "metadata": {},
          "execution_count": 5
        }
      ]
    },
    {
      "cell_type": "code",
      "source": [
        "# dropna elimina los valores faltantes (piense en na como \"no disponible\")\n",
        "melbourne_data = melbourne_data.dropna(axis=0)"
      ],
      "metadata": {
        "id": "U0n_uDDIUFYu"
      },
      "execution_count": null,
      "outputs": []
    },
    {
      "cell_type": "markdown",
      "source": [
        "Seleccionar el objetivo de predicción\n",
        "Puede extraer una variable con notación de puntos. Esta única columna se almacena en una Serie, que en términos generales es como un DataFrame con una sola columna de datos.\n",
        "\n",
        "Usaremos la notación de puntos para seleccionar la columna que queremos predecir, que se denomina objetivo de predicción. Por convención, el objetivo de predicción se denomina \"y\". Entonces, el código que necesitamos para guardar los precios de la vivienda en los datos de Melbourne es"
      ],
      "metadata": {
        "id": "18GUKvb2UtRF"
      }
    },
    {
      "cell_type": "code",
      "source": [
        "y = melbourne_data.Price"
      ],
      "metadata": {
        "id": "1mf4ajV6UuOp"
      },
      "execution_count": null,
      "outputs": []
    },
    {
      "cell_type": "markdown",
      "source": [
        "Elegir \"Características\"\n",
        "Las columnas que se ingresan en nuestro modelo (y luego se usan para hacer predicciones) se denominan \"características\". En nuestro caso, esas serían las columnas utilizadas para determinar el precio de la vivienda. A veces, utilizará todas las columnas excepto la de destino como características. Otras veces estará mejor con menos funciones.\n",
        "\n",
        "Por ahora, construiremos un modelo con sólo unas pocas características. Más adelante verá cómo iterar y comparar modelos creados con diferentes características.\n",
        "\n",
        "Seleccionamos múltiples funciones proporcionando una lista de nombres de columnas entre paréntesis. Cada elemento de esa lista debe ser una cadena (entre comillas)."
      ],
      "metadata": {
        "id": "730n-3UeVHEm"
      }
    },
    {
      "cell_type": "code",
      "source": [
        "melbourne_features = ['Rooms', 'Bathroom', 'Landsize', 'Lattitude', 'Longtitude']"
      ],
      "metadata": {
        "id": "VbvF6Rk-VN0I"
      },
      "execution_count": null,
      "outputs": []
    },
    {
      "cell_type": "code",
      "source": [
        "#Por conveniencia le llamaremos \"X\"\n",
        "X = melbourne_data[melbourne_features]"
      ],
      "metadata": {
        "id": "LS0KC9kKVUFx"
      },
      "execution_count": null,
      "outputs": []
    },
    {
      "cell_type": "markdown",
      "source": [
        "Repasemos rápidamente los datos que usaremos para predecir los precios de la vivienda utilizando el método de descripción y el método principal, que muestra las filas superiores."
      ],
      "metadata": {
        "id": "PRCQmWzaVlJe"
      }
    },
    {
      "cell_type": "code",
      "source": [
        "X.describe()"
      ],
      "metadata": {
        "id": "N4m5TWPHVmbL",
        "colab": {
          "base_uri": "https://localhost:8080/",
          "height": 300
        },
        "outputId": "122b4784-22c1-40de-ad81-34cef0ada35f"
      },
      "execution_count": null,
      "outputs": [
        {
          "output_type": "execute_result",
          "data": {
            "text/plain": [
              "             Rooms     Bathroom      Landsize    Lattitude   Longtitude\n",
              "count  6196.000000  6196.000000   6196.000000  6196.000000  6196.000000\n",
              "mean      2.931407     1.576340    471.006940   -37.807904   144.990201\n",
              "std       0.971079     0.711362    897.449881     0.075850     0.099165\n",
              "min       1.000000     1.000000      0.000000   -38.164920   144.542370\n",
              "25%       2.000000     1.000000    152.000000   -37.855438   144.926198\n",
              "50%       3.000000     1.000000    373.000000   -37.802250   144.995800\n",
              "75%       4.000000     2.000000    628.000000   -37.758200   145.052700\n",
              "max       8.000000     8.000000  37000.000000   -37.457090   145.526350"
            ],
            "text/html": [
              "\n",
              "  <div id=\"df-a1168dec-79e7-43e2-b493-eb8139f5a3f2\" class=\"colab-df-container\">\n",
              "    <div>\n",
              "<style scoped>\n",
              "    .dataframe tbody tr th:only-of-type {\n",
              "        vertical-align: middle;\n",
              "    }\n",
              "\n",
              "    .dataframe tbody tr th {\n",
              "        vertical-align: top;\n",
              "    }\n",
              "\n",
              "    .dataframe thead th {\n",
              "        text-align: right;\n",
              "    }\n",
              "</style>\n",
              "<table border=\"1\" class=\"dataframe\">\n",
              "  <thead>\n",
              "    <tr style=\"text-align: right;\">\n",
              "      <th></th>\n",
              "      <th>Rooms</th>\n",
              "      <th>Bathroom</th>\n",
              "      <th>Landsize</th>\n",
              "      <th>Lattitude</th>\n",
              "      <th>Longtitude</th>\n",
              "    </tr>\n",
              "  </thead>\n",
              "  <tbody>\n",
              "    <tr>\n",
              "      <th>count</th>\n",
              "      <td>6196.000000</td>\n",
              "      <td>6196.000000</td>\n",
              "      <td>6196.000000</td>\n",
              "      <td>6196.000000</td>\n",
              "      <td>6196.000000</td>\n",
              "    </tr>\n",
              "    <tr>\n",
              "      <th>mean</th>\n",
              "      <td>2.931407</td>\n",
              "      <td>1.576340</td>\n",
              "      <td>471.006940</td>\n",
              "      <td>-37.807904</td>\n",
              "      <td>144.990201</td>\n",
              "    </tr>\n",
              "    <tr>\n",
              "      <th>std</th>\n",
              "      <td>0.971079</td>\n",
              "      <td>0.711362</td>\n",
              "      <td>897.449881</td>\n",
              "      <td>0.075850</td>\n",
              "      <td>0.099165</td>\n",
              "    </tr>\n",
              "    <tr>\n",
              "      <th>min</th>\n",
              "      <td>1.000000</td>\n",
              "      <td>1.000000</td>\n",
              "      <td>0.000000</td>\n",
              "      <td>-38.164920</td>\n",
              "      <td>144.542370</td>\n",
              "    </tr>\n",
              "    <tr>\n",
              "      <th>25%</th>\n",
              "      <td>2.000000</td>\n",
              "      <td>1.000000</td>\n",
              "      <td>152.000000</td>\n",
              "      <td>-37.855438</td>\n",
              "      <td>144.926198</td>\n",
              "    </tr>\n",
              "    <tr>\n",
              "      <th>50%</th>\n",
              "      <td>3.000000</td>\n",
              "      <td>1.000000</td>\n",
              "      <td>373.000000</td>\n",
              "      <td>-37.802250</td>\n",
              "      <td>144.995800</td>\n",
              "    </tr>\n",
              "    <tr>\n",
              "      <th>75%</th>\n",
              "      <td>4.000000</td>\n",
              "      <td>2.000000</td>\n",
              "      <td>628.000000</td>\n",
              "      <td>-37.758200</td>\n",
              "      <td>145.052700</td>\n",
              "    </tr>\n",
              "    <tr>\n",
              "      <th>max</th>\n",
              "      <td>8.000000</td>\n",
              "      <td>8.000000</td>\n",
              "      <td>37000.000000</td>\n",
              "      <td>-37.457090</td>\n",
              "      <td>145.526350</td>\n",
              "    </tr>\n",
              "  </tbody>\n",
              "</table>\n",
              "</div>\n",
              "    <div class=\"colab-df-buttons\">\n",
              "\n",
              "  <div class=\"colab-df-container\">\n",
              "    <button class=\"colab-df-convert\" onclick=\"convertToInteractive('df-a1168dec-79e7-43e2-b493-eb8139f5a3f2')\"\n",
              "            title=\"Convert this dataframe to an interactive table.\"\n",
              "            style=\"display:none;\">\n",
              "\n",
              "  <svg xmlns=\"http://www.w3.org/2000/svg\" height=\"24px\" viewBox=\"0 -960 960 960\">\n",
              "    <path d=\"M120-120v-720h720v720H120Zm60-500h600v-160H180v160Zm220 220h160v-160H400v160Zm0 220h160v-160H400v160ZM180-400h160v-160H180v160Zm440 0h160v-160H620v160ZM180-180h160v-160H180v160Zm440 0h160v-160H620v160Z\"/>\n",
              "  </svg>\n",
              "    </button>\n",
              "\n",
              "  <style>\n",
              "    .colab-df-container {\n",
              "      display:flex;\n",
              "      gap: 12px;\n",
              "    }\n",
              "\n",
              "    .colab-df-convert {\n",
              "      background-color: #E8F0FE;\n",
              "      border: none;\n",
              "      border-radius: 50%;\n",
              "      cursor: pointer;\n",
              "      display: none;\n",
              "      fill: #1967D2;\n",
              "      height: 32px;\n",
              "      padding: 0 0 0 0;\n",
              "      width: 32px;\n",
              "    }\n",
              "\n",
              "    .colab-df-convert:hover {\n",
              "      background-color: #E2EBFA;\n",
              "      box-shadow: 0px 1px 2px rgba(60, 64, 67, 0.3), 0px 1px 3px 1px rgba(60, 64, 67, 0.15);\n",
              "      fill: #174EA6;\n",
              "    }\n",
              "\n",
              "    .colab-df-buttons div {\n",
              "      margin-bottom: 4px;\n",
              "    }\n",
              "\n",
              "    [theme=dark] .colab-df-convert {\n",
              "      background-color: #3B4455;\n",
              "      fill: #D2E3FC;\n",
              "    }\n",
              "\n",
              "    [theme=dark] .colab-df-convert:hover {\n",
              "      background-color: #434B5C;\n",
              "      box-shadow: 0px 1px 3px 1px rgba(0, 0, 0, 0.15);\n",
              "      filter: drop-shadow(0px 1px 2px rgba(0, 0, 0, 0.3));\n",
              "      fill: #FFFFFF;\n",
              "    }\n",
              "  </style>\n",
              "\n",
              "    <script>\n",
              "      const buttonEl =\n",
              "        document.querySelector('#df-a1168dec-79e7-43e2-b493-eb8139f5a3f2 button.colab-df-convert');\n",
              "      buttonEl.style.display =\n",
              "        google.colab.kernel.accessAllowed ? 'block' : 'none';\n",
              "\n",
              "      async function convertToInteractive(key) {\n",
              "        const element = document.querySelector('#df-a1168dec-79e7-43e2-b493-eb8139f5a3f2');\n",
              "        const dataTable =\n",
              "          await google.colab.kernel.invokeFunction('convertToInteractive',\n",
              "                                                    [key], {});\n",
              "        if (!dataTable) return;\n",
              "\n",
              "        const docLinkHtml = 'Like what you see? Visit the ' +\n",
              "          '<a target=\"_blank\" href=https://colab.research.google.com/notebooks/data_table.ipynb>data table notebook</a>'\n",
              "          + ' to learn more about interactive tables.';\n",
              "        element.innerHTML = '';\n",
              "        dataTable['output_type'] = 'display_data';\n",
              "        await google.colab.output.renderOutput(dataTable, element);\n",
              "        const docLink = document.createElement('div');\n",
              "        docLink.innerHTML = docLinkHtml;\n",
              "        element.appendChild(docLink);\n",
              "      }\n",
              "    </script>\n",
              "  </div>\n",
              "\n",
              "\n",
              "<div id=\"df-1e5327e1-d521-427b-8306-9e6f11294ef3\">\n",
              "  <button class=\"colab-df-quickchart\" onclick=\"quickchart('df-1e5327e1-d521-427b-8306-9e6f11294ef3')\"\n",
              "            title=\"Suggest charts\"\n",
              "            style=\"display:none;\">\n",
              "\n",
              "<svg xmlns=\"http://www.w3.org/2000/svg\" height=\"24px\"viewBox=\"0 0 24 24\"\n",
              "     width=\"24px\">\n",
              "    <g>\n",
              "        <path d=\"M19 3H5c-1.1 0-2 .9-2 2v14c0 1.1.9 2 2 2h14c1.1 0 2-.9 2-2V5c0-1.1-.9-2-2-2zM9 17H7v-7h2v7zm4 0h-2V7h2v10zm4 0h-2v-4h2v4z\"/>\n",
              "    </g>\n",
              "</svg>\n",
              "  </button>\n",
              "\n",
              "<style>\n",
              "  .colab-df-quickchart {\n",
              "      --bg-color: #E8F0FE;\n",
              "      --fill-color: #1967D2;\n",
              "      --hover-bg-color: #E2EBFA;\n",
              "      --hover-fill-color: #174EA6;\n",
              "      --disabled-fill-color: #AAA;\n",
              "      --disabled-bg-color: #DDD;\n",
              "  }\n",
              "\n",
              "  [theme=dark] .colab-df-quickchart {\n",
              "      --bg-color: #3B4455;\n",
              "      --fill-color: #D2E3FC;\n",
              "      --hover-bg-color: #434B5C;\n",
              "      --hover-fill-color: #FFFFFF;\n",
              "      --disabled-bg-color: #3B4455;\n",
              "      --disabled-fill-color: #666;\n",
              "  }\n",
              "\n",
              "  .colab-df-quickchart {\n",
              "    background-color: var(--bg-color);\n",
              "    border: none;\n",
              "    border-radius: 50%;\n",
              "    cursor: pointer;\n",
              "    display: none;\n",
              "    fill: var(--fill-color);\n",
              "    height: 32px;\n",
              "    padding: 0;\n",
              "    width: 32px;\n",
              "  }\n",
              "\n",
              "  .colab-df-quickchart:hover {\n",
              "    background-color: var(--hover-bg-color);\n",
              "    box-shadow: 0 1px 2px rgba(60, 64, 67, 0.3), 0 1px 3px 1px rgba(60, 64, 67, 0.15);\n",
              "    fill: var(--button-hover-fill-color);\n",
              "  }\n",
              "\n",
              "  .colab-df-quickchart-complete:disabled,\n",
              "  .colab-df-quickchart-complete:disabled:hover {\n",
              "    background-color: var(--disabled-bg-color);\n",
              "    fill: var(--disabled-fill-color);\n",
              "    box-shadow: none;\n",
              "  }\n",
              "\n",
              "  .colab-df-spinner {\n",
              "    border: 2px solid var(--fill-color);\n",
              "    border-color: transparent;\n",
              "    border-bottom-color: var(--fill-color);\n",
              "    animation:\n",
              "      spin 1s steps(1) infinite;\n",
              "  }\n",
              "\n",
              "  @keyframes spin {\n",
              "    0% {\n",
              "      border-color: transparent;\n",
              "      border-bottom-color: var(--fill-color);\n",
              "      border-left-color: var(--fill-color);\n",
              "    }\n",
              "    20% {\n",
              "      border-color: transparent;\n",
              "      border-left-color: var(--fill-color);\n",
              "      border-top-color: var(--fill-color);\n",
              "    }\n",
              "    30% {\n",
              "      border-color: transparent;\n",
              "      border-left-color: var(--fill-color);\n",
              "      border-top-color: var(--fill-color);\n",
              "      border-right-color: var(--fill-color);\n",
              "    }\n",
              "    40% {\n",
              "      border-color: transparent;\n",
              "      border-right-color: var(--fill-color);\n",
              "      border-top-color: var(--fill-color);\n",
              "    }\n",
              "    60% {\n",
              "      border-color: transparent;\n",
              "      border-right-color: var(--fill-color);\n",
              "    }\n",
              "    80% {\n",
              "      border-color: transparent;\n",
              "      border-right-color: var(--fill-color);\n",
              "      border-bottom-color: var(--fill-color);\n",
              "    }\n",
              "    90% {\n",
              "      border-color: transparent;\n",
              "      border-bottom-color: var(--fill-color);\n",
              "    }\n",
              "  }\n",
              "</style>\n",
              "\n",
              "  <script>\n",
              "    async function quickchart(key) {\n",
              "      const quickchartButtonEl =\n",
              "        document.querySelector('#' + key + ' button');\n",
              "      quickchartButtonEl.disabled = true;  // To prevent multiple clicks.\n",
              "      quickchartButtonEl.classList.add('colab-df-spinner');\n",
              "      try {\n",
              "        const charts = await google.colab.kernel.invokeFunction(\n",
              "            'suggestCharts', [key], {});\n",
              "      } catch (error) {\n",
              "        console.error('Error during call to suggestCharts:', error);\n",
              "      }\n",
              "      quickchartButtonEl.classList.remove('colab-df-spinner');\n",
              "      quickchartButtonEl.classList.add('colab-df-quickchart-complete');\n",
              "    }\n",
              "    (() => {\n",
              "      let quickchartButtonEl =\n",
              "        document.querySelector('#df-1e5327e1-d521-427b-8306-9e6f11294ef3 button');\n",
              "      quickchartButtonEl.style.display =\n",
              "        google.colab.kernel.accessAllowed ? 'block' : 'none';\n",
              "    })();\n",
              "  </script>\n",
              "</div>\n",
              "    </div>\n",
              "  </div>\n"
            ]
          },
          "metadata": {},
          "execution_count": 10
        }
      ]
    },
    {
      "cell_type": "code",
      "source": [
        "X.head()\n"
      ],
      "metadata": {
        "id": "D-MtBlwwVwFU",
        "colab": {
          "base_uri": "https://localhost:8080/",
          "height": 206
        },
        "outputId": "f03efb7d-3fa8-466d-af04-3297cf3e9f03"
      },
      "execution_count": null,
      "outputs": [
        {
          "output_type": "execute_result",
          "data": {
            "text/plain": [
              "   Rooms  Bathroom  Landsize  Lattitude  Longtitude\n",
              "1      2       1.0     156.0   -37.8079    144.9934\n",
              "2      3       2.0     134.0   -37.8093    144.9944\n",
              "4      4       1.0     120.0   -37.8072    144.9941\n",
              "6      3       2.0     245.0   -37.8024    144.9993\n",
              "7      2       1.0     256.0   -37.8060    144.9954"
            ],
            "text/html": [
              "\n",
              "  <div id=\"df-d0066503-fc54-44da-aa1c-13f96305c95c\" class=\"colab-df-container\">\n",
              "    <div>\n",
              "<style scoped>\n",
              "    .dataframe tbody tr th:only-of-type {\n",
              "        vertical-align: middle;\n",
              "    }\n",
              "\n",
              "    .dataframe tbody tr th {\n",
              "        vertical-align: top;\n",
              "    }\n",
              "\n",
              "    .dataframe thead th {\n",
              "        text-align: right;\n",
              "    }\n",
              "</style>\n",
              "<table border=\"1\" class=\"dataframe\">\n",
              "  <thead>\n",
              "    <tr style=\"text-align: right;\">\n",
              "      <th></th>\n",
              "      <th>Rooms</th>\n",
              "      <th>Bathroom</th>\n",
              "      <th>Landsize</th>\n",
              "      <th>Lattitude</th>\n",
              "      <th>Longtitude</th>\n",
              "    </tr>\n",
              "  </thead>\n",
              "  <tbody>\n",
              "    <tr>\n",
              "      <th>1</th>\n",
              "      <td>2</td>\n",
              "      <td>1.0</td>\n",
              "      <td>156.0</td>\n",
              "      <td>-37.8079</td>\n",
              "      <td>144.9934</td>\n",
              "    </tr>\n",
              "    <tr>\n",
              "      <th>2</th>\n",
              "      <td>3</td>\n",
              "      <td>2.0</td>\n",
              "      <td>134.0</td>\n",
              "      <td>-37.8093</td>\n",
              "      <td>144.9944</td>\n",
              "    </tr>\n",
              "    <tr>\n",
              "      <th>4</th>\n",
              "      <td>4</td>\n",
              "      <td>1.0</td>\n",
              "      <td>120.0</td>\n",
              "      <td>-37.8072</td>\n",
              "      <td>144.9941</td>\n",
              "    </tr>\n",
              "    <tr>\n",
              "      <th>6</th>\n",
              "      <td>3</td>\n",
              "      <td>2.0</td>\n",
              "      <td>245.0</td>\n",
              "      <td>-37.8024</td>\n",
              "      <td>144.9993</td>\n",
              "    </tr>\n",
              "    <tr>\n",
              "      <th>7</th>\n",
              "      <td>2</td>\n",
              "      <td>1.0</td>\n",
              "      <td>256.0</td>\n",
              "      <td>-37.8060</td>\n",
              "      <td>144.9954</td>\n",
              "    </tr>\n",
              "  </tbody>\n",
              "</table>\n",
              "</div>\n",
              "    <div class=\"colab-df-buttons\">\n",
              "\n",
              "  <div class=\"colab-df-container\">\n",
              "    <button class=\"colab-df-convert\" onclick=\"convertToInteractive('df-d0066503-fc54-44da-aa1c-13f96305c95c')\"\n",
              "            title=\"Convert this dataframe to an interactive table.\"\n",
              "            style=\"display:none;\">\n",
              "\n",
              "  <svg xmlns=\"http://www.w3.org/2000/svg\" height=\"24px\" viewBox=\"0 -960 960 960\">\n",
              "    <path d=\"M120-120v-720h720v720H120Zm60-500h600v-160H180v160Zm220 220h160v-160H400v160Zm0 220h160v-160H400v160ZM180-400h160v-160H180v160Zm440 0h160v-160H620v160ZM180-180h160v-160H180v160Zm440 0h160v-160H620v160Z\"/>\n",
              "  </svg>\n",
              "    </button>\n",
              "\n",
              "  <style>\n",
              "    .colab-df-container {\n",
              "      display:flex;\n",
              "      gap: 12px;\n",
              "    }\n",
              "\n",
              "    .colab-df-convert {\n",
              "      background-color: #E8F0FE;\n",
              "      border: none;\n",
              "      border-radius: 50%;\n",
              "      cursor: pointer;\n",
              "      display: none;\n",
              "      fill: #1967D2;\n",
              "      height: 32px;\n",
              "      padding: 0 0 0 0;\n",
              "      width: 32px;\n",
              "    }\n",
              "\n",
              "    .colab-df-convert:hover {\n",
              "      background-color: #E2EBFA;\n",
              "      box-shadow: 0px 1px 2px rgba(60, 64, 67, 0.3), 0px 1px 3px 1px rgba(60, 64, 67, 0.15);\n",
              "      fill: #174EA6;\n",
              "    }\n",
              "\n",
              "    .colab-df-buttons div {\n",
              "      margin-bottom: 4px;\n",
              "    }\n",
              "\n",
              "    [theme=dark] .colab-df-convert {\n",
              "      background-color: #3B4455;\n",
              "      fill: #D2E3FC;\n",
              "    }\n",
              "\n",
              "    [theme=dark] .colab-df-convert:hover {\n",
              "      background-color: #434B5C;\n",
              "      box-shadow: 0px 1px 3px 1px rgba(0, 0, 0, 0.15);\n",
              "      filter: drop-shadow(0px 1px 2px rgba(0, 0, 0, 0.3));\n",
              "      fill: #FFFFFF;\n",
              "    }\n",
              "  </style>\n",
              "\n",
              "    <script>\n",
              "      const buttonEl =\n",
              "        document.querySelector('#df-d0066503-fc54-44da-aa1c-13f96305c95c button.colab-df-convert');\n",
              "      buttonEl.style.display =\n",
              "        google.colab.kernel.accessAllowed ? 'block' : 'none';\n",
              "\n",
              "      async function convertToInteractive(key) {\n",
              "        const element = document.querySelector('#df-d0066503-fc54-44da-aa1c-13f96305c95c');\n",
              "        const dataTable =\n",
              "          await google.colab.kernel.invokeFunction('convertToInteractive',\n",
              "                                                    [key], {});\n",
              "        if (!dataTable) return;\n",
              "\n",
              "        const docLinkHtml = 'Like what you see? Visit the ' +\n",
              "          '<a target=\"_blank\" href=https://colab.research.google.com/notebooks/data_table.ipynb>data table notebook</a>'\n",
              "          + ' to learn more about interactive tables.';\n",
              "        element.innerHTML = '';\n",
              "        dataTable['output_type'] = 'display_data';\n",
              "        await google.colab.output.renderOutput(dataTable, element);\n",
              "        const docLink = document.createElement('div');\n",
              "        docLink.innerHTML = docLinkHtml;\n",
              "        element.appendChild(docLink);\n",
              "      }\n",
              "    </script>\n",
              "  </div>\n",
              "\n",
              "\n",
              "<div id=\"df-a4964ed3-6b67-4fe8-9262-7cf1578b6355\">\n",
              "  <button class=\"colab-df-quickchart\" onclick=\"quickchart('df-a4964ed3-6b67-4fe8-9262-7cf1578b6355')\"\n",
              "            title=\"Suggest charts\"\n",
              "            style=\"display:none;\">\n",
              "\n",
              "<svg xmlns=\"http://www.w3.org/2000/svg\" height=\"24px\"viewBox=\"0 0 24 24\"\n",
              "     width=\"24px\">\n",
              "    <g>\n",
              "        <path d=\"M19 3H5c-1.1 0-2 .9-2 2v14c0 1.1.9 2 2 2h14c1.1 0 2-.9 2-2V5c0-1.1-.9-2-2-2zM9 17H7v-7h2v7zm4 0h-2V7h2v10zm4 0h-2v-4h2v4z\"/>\n",
              "    </g>\n",
              "</svg>\n",
              "  </button>\n",
              "\n",
              "<style>\n",
              "  .colab-df-quickchart {\n",
              "      --bg-color: #E8F0FE;\n",
              "      --fill-color: #1967D2;\n",
              "      --hover-bg-color: #E2EBFA;\n",
              "      --hover-fill-color: #174EA6;\n",
              "      --disabled-fill-color: #AAA;\n",
              "      --disabled-bg-color: #DDD;\n",
              "  }\n",
              "\n",
              "  [theme=dark] .colab-df-quickchart {\n",
              "      --bg-color: #3B4455;\n",
              "      --fill-color: #D2E3FC;\n",
              "      --hover-bg-color: #434B5C;\n",
              "      --hover-fill-color: #FFFFFF;\n",
              "      --disabled-bg-color: #3B4455;\n",
              "      --disabled-fill-color: #666;\n",
              "  }\n",
              "\n",
              "  .colab-df-quickchart {\n",
              "    background-color: var(--bg-color);\n",
              "    border: none;\n",
              "    border-radius: 50%;\n",
              "    cursor: pointer;\n",
              "    display: none;\n",
              "    fill: var(--fill-color);\n",
              "    height: 32px;\n",
              "    padding: 0;\n",
              "    width: 32px;\n",
              "  }\n",
              "\n",
              "  .colab-df-quickchart:hover {\n",
              "    background-color: var(--hover-bg-color);\n",
              "    box-shadow: 0 1px 2px rgba(60, 64, 67, 0.3), 0 1px 3px 1px rgba(60, 64, 67, 0.15);\n",
              "    fill: var(--button-hover-fill-color);\n",
              "  }\n",
              "\n",
              "  .colab-df-quickchart-complete:disabled,\n",
              "  .colab-df-quickchart-complete:disabled:hover {\n",
              "    background-color: var(--disabled-bg-color);\n",
              "    fill: var(--disabled-fill-color);\n",
              "    box-shadow: none;\n",
              "  }\n",
              "\n",
              "  .colab-df-spinner {\n",
              "    border: 2px solid var(--fill-color);\n",
              "    border-color: transparent;\n",
              "    border-bottom-color: var(--fill-color);\n",
              "    animation:\n",
              "      spin 1s steps(1) infinite;\n",
              "  }\n",
              "\n",
              "  @keyframes spin {\n",
              "    0% {\n",
              "      border-color: transparent;\n",
              "      border-bottom-color: var(--fill-color);\n",
              "      border-left-color: var(--fill-color);\n",
              "    }\n",
              "    20% {\n",
              "      border-color: transparent;\n",
              "      border-left-color: var(--fill-color);\n",
              "      border-top-color: var(--fill-color);\n",
              "    }\n",
              "    30% {\n",
              "      border-color: transparent;\n",
              "      border-left-color: var(--fill-color);\n",
              "      border-top-color: var(--fill-color);\n",
              "      border-right-color: var(--fill-color);\n",
              "    }\n",
              "    40% {\n",
              "      border-color: transparent;\n",
              "      border-right-color: var(--fill-color);\n",
              "      border-top-color: var(--fill-color);\n",
              "    }\n",
              "    60% {\n",
              "      border-color: transparent;\n",
              "      border-right-color: var(--fill-color);\n",
              "    }\n",
              "    80% {\n",
              "      border-color: transparent;\n",
              "      border-right-color: var(--fill-color);\n",
              "      border-bottom-color: var(--fill-color);\n",
              "    }\n",
              "    90% {\n",
              "      border-color: transparent;\n",
              "      border-bottom-color: var(--fill-color);\n",
              "    }\n",
              "  }\n",
              "</style>\n",
              "\n",
              "  <script>\n",
              "    async function quickchart(key) {\n",
              "      const quickchartButtonEl =\n",
              "        document.querySelector('#' + key + ' button');\n",
              "      quickchartButtonEl.disabled = true;  // To prevent multiple clicks.\n",
              "      quickchartButtonEl.classList.add('colab-df-spinner');\n",
              "      try {\n",
              "        const charts = await google.colab.kernel.invokeFunction(\n",
              "            'suggestCharts', [key], {});\n",
              "      } catch (error) {\n",
              "        console.error('Error during call to suggestCharts:', error);\n",
              "      }\n",
              "      quickchartButtonEl.classList.remove('colab-df-spinner');\n",
              "      quickchartButtonEl.classList.add('colab-df-quickchart-complete');\n",
              "    }\n",
              "    (() => {\n",
              "      let quickchartButtonEl =\n",
              "        document.querySelector('#df-a4964ed3-6b67-4fe8-9262-7cf1578b6355 button');\n",
              "      quickchartButtonEl.style.display =\n",
              "        google.colab.kernel.accessAllowed ? 'block' : 'none';\n",
              "    })();\n",
              "  </script>\n",
              "</div>\n",
              "    </div>\n",
              "  </div>\n"
            ]
          },
          "metadata": {},
          "execution_count": 11
        }
      ]
    },
    {
      "cell_type": "markdown",
      "source": [
        "Verificar visualmente sus datos con estos comandos es una parte importante del trabajo de un científico de datos. Con frecuencia encontrará sorpresas en el conjunto de datos que merecen una inspección más detallada."
      ],
      "metadata": {
        "id": "E0kN90NzWD9_"
      }
    },
    {
      "cell_type": "markdown",
      "source": [
        "# **Construyendo su modelo**\n",
        "\n",
        "Utilizará la biblioteca scikit-learn para crear sus modelos. Al codificar, esta biblioteca se escribe como sklearn, como verá en el código de muestra. Scikit-learn es fácilmente la biblioteca más popular para modelar los tipos de datos que normalmente se almacenan en DataFrames.\n",
        "\n",
        "**Los pasos para construir y utilizar un modelo son:**\n",
        "\n",
        "* Definir: ¿Qué tipo de modelo será? ¿Un árbol de\n",
        "decisiones? ¿Algún otro tipo de modelo? También se especifican algunos otros parámetros del tipo de modelo.\n",
        "* Ajuste: capture patrones a partir de los datos proporcionados. Este es el corazón del modelaje.\n",
        "* Predecir: justo lo que parece\n",
        "* Evaluar: determinar qué tan precisas son las predicciones del modelo.\n",
        "\n",
        "A continuación se muestra un ejemplo de cómo definir un modelo de árbol de decisión con scikit-learn y ajustarlo con las características y la variable objetivo."
      ],
      "metadata": {
        "id": "dUg1_b_pWtHC"
      }
    },
    {
      "cell_type": "code",
      "source": [
        "#Importar libreria\n",
        "from sklearn.tree import DecisionTreeRegressor"
      ],
      "metadata": {
        "id": "1idkgkXKWHKs"
      },
      "execution_count": null,
      "outputs": []
    },
    {
      "cell_type": "markdown",
      "source": [
        "Definir modelo. Especifique un número para random_state para garantizar los mismos resultados en cada ejecución."
      ],
      "metadata": {
        "id": "eCfI04EEXUS7"
      }
    },
    {
      "cell_type": "code",
      "source": [
        "# Definir modelo. Especifique un número para random_state para garantizar los mismos resultados en cada ejecución.\n",
        "melbourne_model = DecisionTreeRegressor(random_state=1)"
      ],
      "metadata": {
        "id": "pa0xHg63XYv-"
      },
      "execution_count": null,
      "outputs": []
    },
    {
      "cell_type": "code",
      "source": [
        "# Primer Model\n",
        "melbourne_model.fit(X, y)"
      ],
      "metadata": {
        "id": "cXVKqVtWXloe",
        "colab": {
          "base_uri": "https://localhost:8080/",
          "height": 75
        },
        "outputId": "a3abc046-6228-4c3c-82a1-aae8083ce791"
      },
      "execution_count": null,
      "outputs": [
        {
          "output_type": "execute_result",
          "data": {
            "text/plain": [
              "DecisionTreeRegressor(random_state=1)"
            ],
            "text/html": [
              "<style>#sk-container-id-1 {color: black;background-color: white;}#sk-container-id-1 pre{padding: 0;}#sk-container-id-1 div.sk-toggleable {background-color: white;}#sk-container-id-1 label.sk-toggleable__label {cursor: pointer;display: block;width: 100%;margin-bottom: 0;padding: 0.3em;box-sizing: border-box;text-align: center;}#sk-container-id-1 label.sk-toggleable__label-arrow:before {content: \"▸\";float: left;margin-right: 0.25em;color: #696969;}#sk-container-id-1 label.sk-toggleable__label-arrow:hover:before {color: black;}#sk-container-id-1 div.sk-estimator:hover label.sk-toggleable__label-arrow:before {color: black;}#sk-container-id-1 div.sk-toggleable__content {max-height: 0;max-width: 0;overflow: hidden;text-align: left;background-color: #f0f8ff;}#sk-container-id-1 div.sk-toggleable__content pre {margin: 0.2em;color: black;border-radius: 0.25em;background-color: #f0f8ff;}#sk-container-id-1 input.sk-toggleable__control:checked~div.sk-toggleable__content {max-height: 200px;max-width: 100%;overflow: auto;}#sk-container-id-1 input.sk-toggleable__control:checked~label.sk-toggleable__label-arrow:before {content: \"▾\";}#sk-container-id-1 div.sk-estimator input.sk-toggleable__control:checked~label.sk-toggleable__label {background-color: #d4ebff;}#sk-container-id-1 div.sk-label input.sk-toggleable__control:checked~label.sk-toggleable__label {background-color: #d4ebff;}#sk-container-id-1 input.sk-hidden--visually {border: 0;clip: rect(1px 1px 1px 1px);clip: rect(1px, 1px, 1px, 1px);height: 1px;margin: -1px;overflow: hidden;padding: 0;position: absolute;width: 1px;}#sk-container-id-1 div.sk-estimator {font-family: monospace;background-color: #f0f8ff;border: 1px dotted black;border-radius: 0.25em;box-sizing: border-box;margin-bottom: 0.5em;}#sk-container-id-1 div.sk-estimator:hover {background-color: #d4ebff;}#sk-container-id-1 div.sk-parallel-item::after {content: \"\";width: 100%;border-bottom: 1px solid gray;flex-grow: 1;}#sk-container-id-1 div.sk-label:hover label.sk-toggleable__label {background-color: #d4ebff;}#sk-container-id-1 div.sk-serial::before {content: \"\";position: absolute;border-left: 1px solid gray;box-sizing: border-box;top: 0;bottom: 0;left: 50%;z-index: 0;}#sk-container-id-1 div.sk-serial {display: flex;flex-direction: column;align-items: center;background-color: white;padding-right: 0.2em;padding-left: 0.2em;position: relative;}#sk-container-id-1 div.sk-item {position: relative;z-index: 1;}#sk-container-id-1 div.sk-parallel {display: flex;align-items: stretch;justify-content: center;background-color: white;position: relative;}#sk-container-id-1 div.sk-item::before, #sk-container-id-1 div.sk-parallel-item::before {content: \"\";position: absolute;border-left: 1px solid gray;box-sizing: border-box;top: 0;bottom: 0;left: 50%;z-index: -1;}#sk-container-id-1 div.sk-parallel-item {display: flex;flex-direction: column;z-index: 1;position: relative;background-color: white;}#sk-container-id-1 div.sk-parallel-item:first-child::after {align-self: flex-end;width: 50%;}#sk-container-id-1 div.sk-parallel-item:last-child::after {align-self: flex-start;width: 50%;}#sk-container-id-1 div.sk-parallel-item:only-child::after {width: 0;}#sk-container-id-1 div.sk-dashed-wrapped {border: 1px dashed gray;margin: 0 0.4em 0.5em 0.4em;box-sizing: border-box;padding-bottom: 0.4em;background-color: white;}#sk-container-id-1 div.sk-label label {font-family: monospace;font-weight: bold;display: inline-block;line-height: 1.2em;}#sk-container-id-1 div.sk-label-container {text-align: center;}#sk-container-id-1 div.sk-container {/* jupyter's `normalize.less` sets `[hidden] { display: none; }` but bootstrap.min.css set `[hidden] { display: none !important; }` so we also need the `!important` here to be able to override the default hidden behavior on the sphinx rendered scikit-learn.org. See: https://github.com/scikit-learn/scikit-learn/issues/21755 */display: inline-block !important;position: relative;}#sk-container-id-1 div.sk-text-repr-fallback {display: none;}</style><div id=\"sk-container-id-1\" class=\"sk-top-container\"><div class=\"sk-text-repr-fallback\"><pre>DecisionTreeRegressor(random_state=1)</pre><b>In a Jupyter environment, please rerun this cell to show the HTML representation or trust the notebook. <br />On GitHub, the HTML representation is unable to render, please try loading this page with nbviewer.org.</b></div><div class=\"sk-container\" hidden><div class=\"sk-item\"><div class=\"sk-estimator sk-toggleable\"><input class=\"sk-toggleable__control sk-hidden--visually\" id=\"sk-estimator-id-1\" type=\"checkbox\" checked><label for=\"sk-estimator-id-1\" class=\"sk-toggleable__label sk-toggleable__label-arrow\">DecisionTreeRegressor</label><div class=\"sk-toggleable__content\"><pre>DecisionTreeRegressor(random_state=1)</pre></div></div></div></div></div>"
            ]
          },
          "metadata": {},
          "execution_count": 14
        }
      ]
    },
    {
      "cell_type": "markdown",
      "source": [
        "Muchos modelos de aprendizaje automático permiten cierta aleatoriedad en el entrenamiento del modelo. Especificar un número para random_state garantiza que obtendrá los mismos resultados en cada ejecución. Esto se considera una buena práctica. Utilice cualquier número y la calidad del modelo no dependerá significativamente del valor exacto que elija.\n",
        "\n",
        "Ahora tenemos un modelo ajustado que podemos utilizar para hacer predicciones.\n",
        "\n",
        "En la práctica, querrás hacer predicciones sobre las casas nuevas que saldrán al mercado en lugar de las casas cuyos precios ya tenemos. Pero haremos predicciones para las primeras filas de los datos de entrenamiento para ver cómo funciona la función de predicción."
      ],
      "metadata": {
        "id": "CZ8X7saHYgNY"
      }
    },
    {
      "cell_type": "code",
      "source": [
        "print(\"Making predictions for the following 5 houses:\")\n",
        "print(X.head())\n",
        "print(\"The predictions are\")\n",
        "print(melbourne_model.predict(X.head()))"
      ],
      "metadata": {
        "id": "WIJmiWLjYheZ",
        "colab": {
          "base_uri": "https://localhost:8080/"
        },
        "outputId": "36bfd5c8-b82a-49d9-e049-9e5fbed3ba62"
      },
      "execution_count": null,
      "outputs": [
        {
          "output_type": "stream",
          "name": "stdout",
          "text": [
            "Making predictions for the following 5 houses:\n",
            "   Rooms  Bathroom  Landsize  Lattitude  Longtitude\n",
            "1      2       1.0     156.0   -37.8079    144.9934\n",
            "2      3       2.0     134.0   -37.8093    144.9944\n",
            "4      4       1.0     120.0   -37.8072    144.9941\n",
            "6      3       2.0     245.0   -37.8024    144.9993\n",
            "7      2       1.0     256.0   -37.8060    144.9954\n",
            "The predictions are\n",
            "[1035000. 1465000. 1600000. 1876000. 1636000.]\n"
          ]
        }
      ]
    },
    {
      "cell_type": "markdown",
      "source": [
        "Estos resultados de predicción están asociados con las características de cinco casas específicas. Las características de cada casa, representadas por las columnas Rooms, Bathroom, Landsize, Lattitude y Longtitude.  Las predicciones asociadas a estos datos de entrada son [1035000. 1465000. 1600000. 1876000. 1636000.], que representan los valores estimados para el precio de cada una de estas casas."
      ],
      "metadata": {
        "id": "QdqbE5fOdoFv"
      }
    },
    {
      "cell_type": "markdown",
      "source": [
        "# **MODELADO**"
      ],
      "metadata": {
        "id": "FG5Y1WizbTmj"
      }
    },
    {
      "cell_type": "markdown",
      "source": [
        "¿Qué es la validación de modelos?\n",
        "Querrá evaluar casi todos los modelos que haya construido. En la mayoría de las aplicaciones (aunque no en todas), la medida relevante de la calidad del modelo es la precisión predictiva. En otras palabras, ¿las predicciones del modelo se acercarán a lo que realmente sucede?\n",
        "\n",
        "Mucha gente comete un gran error al medir la precisión predictiva. Hacen predicciones con sus datos de entrenamiento y las comparan con los valores objetivo en los datos de entrenamiento. Verá el problema con este enfoque y cómo resolverlo en un momento, pero pensemos en cómo haríamos esto primero.\n",
        "Primero deberá resumir la calidad del modelo de una manera comprensible. Si compara los valores reales y previstos de 10.000 casas, probablemente encontrará una combinación de predicciones buenas y malas. Sería inútil revisar una lista de 10.000 valores previstos y reales. Necesitamos resumir esto en una sola métrica.\n",
        "\n",
        "Hay muchas métricas para resumir la calidad del modelo, pero comenzaremos con una llamada Error Absoluto Medio (también llamado MAE). Analicemos esta métrica comenzando con la última palabra, error."
      ],
      "metadata": {
        "id": "5S9riSRTlLKR"
      }
    },
    {
      "cell_type": "code",
      "source": [
        "# El error de predicción para cada casa es:\n",
        "# error=actual−predicted"
      ],
      "metadata": {
        "id": "FCW4__6soxQD"
      },
      "execution_count": null,
      "outputs": []
    },
    {
      "cell_type": "markdown",
      "source": [
        "Entonces, si una casa cuesta 250,000 y usted predijo que costaría 100,000, el error es 150,000.\n",
        "\n",
        "Con la métrica MAE tomamos el valor absoluto de cada error. Esto convierte cada error en un número positivo. Luego tomamos el promedio de esos errores absolutos. Esta es nuestra medida de la calidad del modelo. En lenguaje sencillo, se puede decir como\n",
        "\n",
        "En promedio, nuestras predicciones están equivocadas en aproximadamente X.\n",
        "\n",
        "Para calcular MAE, primero necesitamos un modelo. Está integrado en una celda oculta debajo, que puede revisar haciendo clic en el botón de código."
      ],
      "metadata": {
        "id": "9GdoAEe8oI-q"
      }
    },
    {
      "cell_type": "code",
      "source": [
        "\n",
        "from sklearn.metrics import mean_absolute_error\n",
        "\n",
        "predicted_home_prices = melbourne_model.predict(X)\n",
        "mean_absolute_error(y, predicted_home_prices)"
      ],
      "metadata": {
        "id": "1q12YAzfl33O",
        "colab": {
          "base_uri": "https://localhost:8080/"
        },
        "outputId": "4a0da7ed-aec3-4401-eb41-615d125652ef"
      },
      "execution_count": null,
      "outputs": [
        {
          "output_type": "execute_result",
          "data": {
            "text/plain": [
              "1115.7467183128902"
            ]
          },
          "metadata": {},
          "execution_count": 17
        }
      ]
    },
    {
      "cell_type": "markdown",
      "source": [
        "# El problema de las puntuaciones \"dentro de la muestra\"\n",
        "\n",
        "La medida que acabamos de calcular se puede denominar puntuación \"dentro de la muestra\". Utilizamos una única \"muestra\" de casas tanto para construir el modelo como para evaluarlo. He aquí por qué esto es malo.\n",
        "\n",
        "Imaginemos que, en el gran mercado inmobiliario, el color de las puertas no guarda relación con el precio de la vivienda.\n",
        "\n",
        "Sin embargo, en la muestra de datos que utilizó para construir el modelo, todas las casas con puertas verdes eran muy caras. El trabajo del modelo es encontrar patrones que predigan los precios de las viviendas, por lo que verá este patrón y siempre predecirá precios altos para las viviendas con puertas verdes.\n",
        "\n",
        "Dado que este patrón se derivó de los datos de entrenamiento, el modelo aparecerá preciso en los datos de entrenamiento.\n",
        "\n",
        "Pero si este patrón no se mantiene cuando el modelo ve nuevos datos, el modelo sería muy inexacto cuando se use en la práctica.\n",
        "\n",
        "Dado que el valor práctico de los modelos proviene de hacer predicciones sobre datos nuevos, medimos el rendimiento de datos que no se utilizaron para construir el modelo. La forma más sencilla de hacer esto es excluir algunos datos del proceso de creación del modelo y luego usarlos para probar la precisión del modelo en datos que no se han visto antes. Estos datos se denominan datos de validación.\n",
        "# Codificándolo\n",
        "La biblioteca scikit-learn tiene una función train_test_split para dividir los datos en dos partes. Usaremos algunos de esos datos como datos de entrenamiento para ajustarnos al modelo y usaremos los demás datos como datos de validación para calcular el error_absoluto medio."
      ],
      "metadata": {
        "id": "ReNZxgz3pc65"
      }
    },
    {
      "cell_type": "code",
      "source": [
        "from sklearn.model_selection import train_test_split\n",
        "\n",
        "# dividir los datos en datos de entrenamiento y validación, tanto para las funciones como para el objetivo\n",
        "# La división se basa en un generador de números aleatorios. Proporcionar un valor numérico a\n",
        "# el argumento random_state garantiza que obtendremos la misma división cada vez que\n",
        "# ejecutar este script.\n",
        "\n",
        "train_X, val_X, train_y, val_y = train_test_split(X, y, random_state = 0)\n",
        "# Define el modelo\n",
        "melbourne_model = DecisionTreeRegressor()\n",
        "# Ajuste el modelo\n",
        "melbourne_model.fit(train_X, train_y)\n",
        "\n",
        "# obtener precios previstos en los datos de validación\n",
        "val_predictions = melbourne_model.predict(val_X)\n",
        "print(mean_absolute_error(val_y, val_predictions))\n"
      ],
      "metadata": {
        "colab": {
          "base_uri": "https://localhost:8080/"
        },
        "id": "4PmFnNCSqLoP",
        "outputId": "e30fac36-4ea8-4cae-a7c6-87e11d61fc9f"
      },
      "execution_count": null,
      "outputs": [
        {
          "output_type": "stream",
          "name": "stdout",
          "text": [
            "276308.4577146546\n"
          ]
        }
      ]
    },
    {
      "cell_type": "markdown",
      "source": [
        "# Desajuste y sobreajuste | Underfitting and Overfitting\n",
        "\n",
        "Ajuste su modelo para obtener un mejor rendimiento.\n",
        "\n",
        "El desajuste (underfitting) y el sobreajuste (overfitting) son fenómenos comunes en modelos de aprendizaje automático (ML).\n",
        "\n",
        "**Desajuste (Underfitting)**:\n",
        "El desajuste ocurre cuando un modelo es demasiado simple para capturar la complejidad de los datos de entrenamiento. Como resultado, el modelo no puede ajustarse adecuadamente ni representar patrones importantes. Se manifiesta en un rendimiento deficiente tanto en los datos de entrenamiento como en los de prueba.\n",
        "\n",
        "**Sobreajuste (Overfitting)**:\n",
        "El sobreajuste se produce cuando un modelo se ajusta demasiado a los datos de entrenamiento, capturando incluso el ruido y las variaciones insignificantes. Aunque el modelo puede rendir bien en los datos de entrenamiento, su desempeño tiende a ser deficiente en datos no vistos, ya que ha memorizado en lugar de generalizar patrones.\n",
        "\n",
        "**Equilibrio**:\n",
        "El objetivo es encontrar un equilibrio entre ambos extremos. Un modelo bien ajustado generaliza bien a datos no vistos. Se puede lograr mediante técnicas como la validación cruzada, ajuste de hiperparámetros y el uso de conjuntos de datos de prueba y validación.\n",
        "\n",
        "Recuerda que el monitoreo constante del rendimiento del modelo es esencial para evitar desajustes y sobreajustes, asegurando así la robustez y la generalización adecuada del modelo."
      ],
      "metadata": {
        "id": "Uy1R2JmYljHW"
      }
    },
    {
      "cell_type": "markdown",
      "source": [
        "Mean Absolute Error (MAE):\n",
        "\n",
        "El MAE es una métrica de evaluación común en modelos de regresión. Mide el promedio de las diferencias absolutas entre las predicciones del modelo y los valores reales.\n",
        "![MAE.png](data:image/png;base64,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)"
      ],
      "metadata": {
        "id": "SLrDNUptodPe"
      }
    },
    {
      "cell_type": "markdown",
      "source": [
        "Podemos usar una función de utilidad para ayudar a comparar puntuaciones MAE de diferentes valores para max_leaf_nodes"
      ],
      "metadata": {
        "id": "lR1w8GlDvnAQ"
      }
    },
    {
      "cell_type": "code",
      "source": [
        "from sklearn.metrics import mean_absolute_error\n",
        "from sklearn.tree import DecisionTreeRegressor\n",
        "\n",
        "def get_mae(max_leaf_nodes, train_X, val_X, train_y, val_y):\n",
        "    model = DecisionTreeRegressor(max_leaf_nodes=max_leaf_nodes, random_state=0)\n",
        "    model.fit(train_X, train_y)\n",
        "    preds_val = model.predict(val_X)\n",
        "    mae = mean_absolute_error(val_y, preds_val)\n",
        "    return(mae)"
      ],
      "metadata": {
        "id": "QXqwqqCtv7ws"
      },
      "execution_count": null,
      "outputs": []
    },
    {
      "cell_type": "code",
      "source": [
        "# compare MAE with differing values of max_leaf_nodes\n",
        "for max_leaf_nodes in [5, 50, 500, 5000]:\n",
        "    my_mae = get_mae(max_leaf_nodes, train_X, val_X, train_y, val_y)\n",
        "    print(\"Max leaf nodes: %d  \\t\\t Mean Absolute Error:  %d\" %(max_leaf_nodes, my_mae))"
      ],
      "metadata": {
        "colab": {
          "base_uri": "https://localhost:8080/"
        },
        "id": "VJ6zNziKwIY7",
        "outputId": "a65a804c-4a30-4673-89ad-511863a65bc4"
      },
      "execution_count": null,
      "outputs": [
        {
          "output_type": "stream",
          "name": "stdout",
          "text": [
            "Max leaf nodes: 5  \t\t Mean Absolute Error:  385696\n",
            "Max leaf nodes: 50  \t\t Mean Absolute Error:  279794\n",
            "Max leaf nodes: 500  \t\t Mean Absolute Error:  261718\n",
            "Max leaf nodes: 5000  \t\t Mean Absolute Error:  271320\n"
          ]
        }
      ]
    },
    {
      "cell_type": "markdown",
      "source": [
        "**En resumen**, los modelos enfrentan desafíos críticos, entre ellos:\n",
        "\n",
        "**Sobreajuste:** Este problema se presenta cuando un modelo aprende patrones específicos del conjunto de entrenamiento que no son representativos de la realidad general. Esto puede resultar en predicciones inexactas al encontrarse con nuevos datos.\n",
        "\n",
        "**Desajuste:** Contrariamente, el desajuste ocurre cuando un modelo es demasiado simple para capturar patrones relevantes en los datos de entrenamiento, lo que también conduce a predicciones menos precisas al enfrentarse a situaciones del mundo real.\n",
        "\n",
        "Para abordar estos problemas, utilizamos datos de validación, que no forman parte del proceso de entrenamiento del modelo. Esta estrategia nos permite evaluar el rendimiento de múltiples modelos candidatos y seleccionar aquel que demuestre la mejor capacidad de generalización y precisión en la predicción de datos futuros. Al emplear este enfoque, buscamos encontrar el equilibrio óptimo entre la capacidad del modelo para aprender patrones relevantes y su habilidad para evitar la captura de información irrelevante, asegurando así la robustez y eficacia del modelo en el mundo real."
      ],
      "metadata": {
        "id": "IcRYkVMbwksx"
      }
    },
    {
      "cell_type": "markdown",
      "source": [
        "**Validación del Modelo**\n",
        "\n",
        "¿Qué es la validación de modelos?\n",
        "\n",
        "Querrá evaluar casi todos los modelos que haya construido. En la mayoría de las aplicaciones (aunque no en todas), la medida relevante de la calidad del modelo es la precisión predictiva. En otras palabras, ¿las predicciones del modelo se acercarán a lo que realmente sucede?\n",
        "\n",
        "Mucha gente comete un gran error al medir la precisión predictiva. Hacen predicciones con sus datos de entrenamiento y las comparan con los valores objetivo en los datos de entrenamiento. Verá el problema con este enfoque y cómo resolverlo en un momento, pero pensemos en cómo haríamos esto primero.\n",
        "\n",
        "Primero deberá resumir la calidad del modelo de una manera comprensible. Si compara los valores reales y previstos de 10.000 casas, probablemente encontrará una combinación de predicciones buenas y malas. Sería inútil revisar una lista de 10.000 valores previstos y reales. Necesitamos resumir esto en una sola métrica.\n",
        "\n",
        "Hay muchas métricas para resumir la calidad del modelo, pero comenzaremos con una llamada Error Absoluto Medio (también llamado MAE). Analicemos esta métrica comenzando con la última palabra, error."
      ],
      "metadata": {
        "id": "mC1CrnNc53U8"
      }
    },
    {
      "cell_type": "code",
      "source": [
        "# error=actual−predicted"
      ],
      "metadata": {
        "id": "18gZlchw7Wnv"
      },
      "execution_count": null,
      "outputs": []
    },
    {
      "cell_type": "code",
      "source": [
        "from sklearn.metrics import mean_absolute_error\n",
        "\n",
        "predicted_home_prices = melbourne_model.predict(X)\n",
        "mean_absolute_error(y, predicted_home_prices)"
      ],
      "metadata": {
        "colab": {
          "base_uri": "https://localhost:8080/"
        },
        "id": "G6JC0P4d8Xqu",
        "outputId": "a205532e-7c51-4513-e74b-6a8ee57c0cd4"
      },
      "execution_count": null,
      "outputs": [
        {
          "output_type": "execute_result",
          "data": {
            "text/plain": [
              "69750.45206584893"
            ]
          },
          "metadata": {},
          "execution_count": 22
        }
      ]
    },
    {
      "cell_type": "markdown",
      "source": [
        "El problema de las puntuaciones \"dentro de la muestra\"\n",
        "La medida que acabamos de calcular se puede denominar puntuación \"dentro de la muestra\". Utilizamos una única \"muestra\" de casas tanto para construir el modelo como para evaluarlo. He aquí por qué esto es malo.\n",
        "\n",
        "Imaginemos que, en el gran mercado inmobiliario, el color de las puertas no guarda relación con el precio de la vivienda.\n",
        "\n",
        "Sin embargo, en la muestra de datos que utilizó para construir el modelo, todas las casas con puertas verdes eran muy caras. El trabajo del modelo es encontrar patrones que predigan los precios de las viviendas, por lo que verá este patrón y siempre predecirá precios altos para las viviendas con puertas verdes.\n",
        "\n",
        "Dado que este patrón se derivó de los datos de entrenamiento, el modelo aparecerá preciso en los datos de entrenamiento.\n",
        "\n",
        "Pero si este patrón no se mantiene cuando el modelo ve nuevos datos, el modelo sería muy inexacto cuando se use en la práctica.\n",
        "\n",
        "Dado que el valor práctico de los modelos proviene de hacer predicciones sobre datos nuevos, medimos el rendimiento de datos que no se utilizaron para construir el modelo. La forma más sencilla de hacer esto es excluir algunos datos del proceso de creación del modelo y luego usarlos para probar la precisión del modelo en datos que no se han visto antes. Estos datos se denominan datos de validación.\n",
        "\n",
        "Codificándolo\n",
        "La biblioteca scikit-learn tiene una función train_test_split para dividir los datos en dos partes. Usaremos algunos de esos datos como datos de entrenamiento para ajustar el modelo y usaremos los demás datos como datos de validación para calcular el error_absoluto medio."
      ],
      "metadata": {
        "id": "oyrmqlgt9Lrk"
      }
    },
    {
      "cell_type": "markdown",
      "source": [],
      "metadata": {
        "id": "IlLWopvC9LVD"
      }
    },
    {
      "cell_type": "code",
      "source": [
        "from sklearn.model_selection import train_test_split\n",
        "\n",
        "# split data into training and validation data, for both features and target\n",
        "# The split is based on a random number generator. Supplying a numeric value to\n",
        "# the random_state argument guarantees we get the same split every time we\n",
        "# run this script.\n",
        "train_X, val_X, train_y, val_y = train_test_split(X, y, random_state = 0)\n",
        "# Define model\n",
        "melbourne_model = DecisionTreeRegressor()\n",
        "# Fit model\n",
        "melbourne_model.fit(train_X, train_y)\n",
        "\n",
        "# get predicted prices on validation data\n",
        "val_predictions = melbourne_model.predict(val_X)\n",
        "print(mean_absolute_error(val_y, val_predictions))"
      ],
      "metadata": {
        "colab": {
          "base_uri": "https://localhost:8080/"
        },
        "id": "B-1PuHdT9M6U",
        "outputId": "d1065939-89ba-4d0d-bbca-c69c62690678"
      },
      "execution_count": null,
      "outputs": [
        {
          "output_type": "stream",
          "name": "stdout",
          "text": [
            "276079.2683451689\n"
          ]
        }
      ]
    },
    {
      "cell_type": "markdown",
      "source": [
        "¡Guau!\n",
        "Su error absoluto medio para los datos de la muestra fue de unos 500 dólares. Fuera de muestra asciende a más de 277.044 dólares.\n",
        "\n",
        "Ésta es la diferencia entre un modelo que es casi exactamente correcto y uno que no se puede utilizar para la mayoría de los propósitos prácticos. Como punto de referencia, el valor medio de la vivienda en los datos de validación es de 1,1 millones de dólares. Entonces, el error en los nuevos datos es aproximadamente una cuarta parte del valor promedio de una vivienda.\n",
        "\n",
        "Hay muchas formas de mejorar este modelo, como experimentar para encontrar mejores características o diferentes tipos de modelos."
      ],
      "metadata": {
        "id": "uwRtxVhw9xpO"
      }
    }
  ]
}